{
  "nbformat": 4,
  "nbformat_minor": 0,
  "metadata": {
    "colab": {
      "name": "Untitled.ipynb",
      "version": "0.3.2",
      "provenance": [],
      "toc_visible": true
    },
    "kernelspec": {
      "display_name": "Python 3",
      "language": "python",
      "name": "python3"
    }
  },
  "cells": [
    {
      "metadata": {
        "id": "iFuptEvA8X-J",
        "colab_type": "text"
      },
      "cell_type": "markdown",
      "source": [
        "A somewhat simplified dataset of a GEANT based simulation of electron-proton inelastic scattering measured by a particle detector system."
      ]
    },
    {
      "metadata": {
        "id": "IxsceED98X-K",
        "colab_type": "text"
      },
      "cell_type": "markdown",
      "source": [
        "# Data processing"
      ]
    },
    {
      "metadata": {
        "id": "nzLnYcze9tJ0",
        "colab_type": "code",
        "outputId": "05b6ff3e-9879-45eb-fce1-cafdb925a7cb",
        "colab": {
          "base_uri": "https://localhost:8080/",
          "height": 281
        }
      },
      "cell_type": "code",
      "source": [
        "! wget 'https://drive.google.com/open?id=1d_mQpokqb598VVVexrkMVs47M4x0MLoc'"
      ],
      "execution_count": 0,
      "outputs": [
        {
          "output_type": "stream",
          "text": [
            "--2018-10-30 12:51:50--  https://drive.google.com/open?id=1d_mQpokqb598VVVexrkMVs47M4x0MLoc\n",
            "Resolving drive.google.com (drive.google.com)... 74.125.195.101, 74.125.195.138, 74.125.195.102, ...\n",
            "Connecting to drive.google.com (drive.google.com)|74.125.195.101|:443... connected.\n",
            "HTTP request sent, awaiting response... 307 OK\n",
            "Location: https://drive.google.com/file/d/1d_mQpokqb598VVVexrkMVs47M4x0MLoc/view?usp=drive_open [following]\n",
            "--2018-10-30 12:51:51--  https://drive.google.com/file/d/1d_mQpokqb598VVVexrkMVs47M4x0MLoc/view?usp=drive_open\n",
            "Reusing existing connection to drive.google.com:443.\n",
            "HTTP request sent, awaiting response... 200 OK\n",
            "Length: unspecified [text/html]\n",
            "Saving to: ‘open?id=1d_mQpokqb598VVVexrkMVs47M4x0MLoc.1’\n",
            "\n",
            "\r          open?id=1     [<=>                 ]       0  --.-KB/s               \ropen?id=1d_mQpokqb5     [ <=>                ] 131.85K  --.-KB/s    in 0.06s   \n",
            "\n",
            "2018-10-30 12:51:51 (2.13 MB/s) - ‘open?id=1d_mQpokqb598VVVexrkMVs47M4x0MLoc.1’ saved [135017]\n",
            "\n"
          ],
          "name": "stdout"
        }
      ]
    },
    {
      "metadata": {
        "id": "vnRljEPZ8X-L",
        "colab_type": "code",
        "colab": {}
      },
      "cell_type": "code",
      "source": [
        "import pandas as pd"
      ],
      "execution_count": 0,
      "outputs": []
    },
    {
      "metadata": {
        "id": "sVC9dVje8X-R",
        "colab_type": "code",
        "outputId": "8d7698a8-78ff-4836-c6ab-cc08f172e425",
        "colab": {
          "base_uri": "https://localhost:8080/",
          "height": 858
        }
      },
      "cell_type": "code",
      "source": [
        "data = pd.read_csv('pid-5M.csv')"
      ],
      "execution_count": 0,
      "outputs": [
        {
          "output_type": "error",
          "ename": "ParserError",
          "evalue": "ignored",
          "traceback": [
            "\u001b[0;31m---------------------------------------------------------------------------\u001b[0m",
            "\u001b[0;31mParserError\u001b[0m                               Traceback (most recent call last)",
            "\u001b[0;32m<ipython-input-11-c677295d4df1>\u001b[0m in \u001b[0;36m<module>\u001b[0;34m()\u001b[0m\n\u001b[0;32m----> 1\u001b[0;31m \u001b[0mdata\u001b[0m \u001b[0;34m=\u001b[0m \u001b[0mpd\u001b[0m\u001b[0;34m.\u001b[0m\u001b[0mread_csv\u001b[0m\u001b[0;34m(\u001b[0m\u001b[0;34m'pid-5M.csv'\u001b[0m\u001b[0;34m)\u001b[0m\u001b[0;34m\u001b[0m\u001b[0m\n\u001b[0m",
            "\u001b[0;32m/usr/local/lib/python3.6/dist-packages/pandas/io/parsers.py\u001b[0m in \u001b[0;36mparser_f\u001b[0;34m(filepath_or_buffer, sep, delimiter, header, names, index_col, usecols, squeeze, prefix, mangle_dupe_cols, dtype, engine, converters, true_values, false_values, skipinitialspace, skiprows, nrows, na_values, keep_default_na, na_filter, verbose, skip_blank_lines, parse_dates, infer_datetime_format, keep_date_col, date_parser, dayfirst, iterator, chunksize, compression, thousands, decimal, lineterminator, quotechar, quoting, escapechar, comment, encoding, dialect, tupleize_cols, error_bad_lines, warn_bad_lines, skipfooter, skip_footer, doublequote, delim_whitespace, as_recarray, compact_ints, use_unsigned, low_memory, buffer_lines, memory_map, float_precision)\u001b[0m\n\u001b[1;32m    707\u001b[0m                     skip_blank_lines=skip_blank_lines)\n\u001b[1;32m    708\u001b[0m \u001b[0;34m\u001b[0m\u001b[0m\n\u001b[0;32m--> 709\u001b[0;31m         \u001b[0;32mreturn\u001b[0m \u001b[0m_read\u001b[0m\u001b[0;34m(\u001b[0m\u001b[0mfilepath_or_buffer\u001b[0m\u001b[0;34m,\u001b[0m \u001b[0mkwds\u001b[0m\u001b[0;34m)\u001b[0m\u001b[0;34m\u001b[0m\u001b[0m\n\u001b[0m\u001b[1;32m    710\u001b[0m \u001b[0;34m\u001b[0m\u001b[0m\n\u001b[1;32m    711\u001b[0m     \u001b[0mparser_f\u001b[0m\u001b[0;34m.\u001b[0m\u001b[0m__name__\u001b[0m \u001b[0;34m=\u001b[0m \u001b[0mname\u001b[0m\u001b[0;34m\u001b[0m\u001b[0m\n",
            "\u001b[0;32m/usr/local/lib/python3.6/dist-packages/pandas/io/parsers.py\u001b[0m in \u001b[0;36m_read\u001b[0;34m(filepath_or_buffer, kwds)\u001b[0m\n\u001b[1;32m    453\u001b[0m \u001b[0;34m\u001b[0m\u001b[0m\n\u001b[1;32m    454\u001b[0m     \u001b[0;32mtry\u001b[0m\u001b[0;34m:\u001b[0m\u001b[0;34m\u001b[0m\u001b[0m\n\u001b[0;32m--> 455\u001b[0;31m         \u001b[0mdata\u001b[0m \u001b[0;34m=\u001b[0m \u001b[0mparser\u001b[0m\u001b[0;34m.\u001b[0m\u001b[0mread\u001b[0m\u001b[0;34m(\u001b[0m\u001b[0mnrows\u001b[0m\u001b[0;34m)\u001b[0m\u001b[0;34m\u001b[0m\u001b[0m\n\u001b[0m\u001b[1;32m    456\u001b[0m     \u001b[0;32mfinally\u001b[0m\u001b[0;34m:\u001b[0m\u001b[0;34m\u001b[0m\u001b[0m\n\u001b[1;32m    457\u001b[0m         \u001b[0mparser\u001b[0m\u001b[0;34m.\u001b[0m\u001b[0mclose\u001b[0m\u001b[0;34m(\u001b[0m\u001b[0;34m)\u001b[0m\u001b[0;34m\u001b[0m\u001b[0m\n",
            "\u001b[0;32m/usr/local/lib/python3.6/dist-packages/pandas/io/parsers.py\u001b[0m in \u001b[0;36mread\u001b[0;34m(self, nrows)\u001b[0m\n\u001b[1;32m   1067\u001b[0m                 \u001b[0;32mraise\u001b[0m \u001b[0mValueError\u001b[0m\u001b[0;34m(\u001b[0m\u001b[0;34m'skipfooter not supported for iteration'\u001b[0m\u001b[0;34m)\u001b[0m\u001b[0;34m\u001b[0m\u001b[0m\n\u001b[1;32m   1068\u001b[0m \u001b[0;34m\u001b[0m\u001b[0m\n\u001b[0;32m-> 1069\u001b[0;31m         \u001b[0mret\u001b[0m \u001b[0;34m=\u001b[0m \u001b[0mself\u001b[0m\u001b[0;34m.\u001b[0m\u001b[0m_engine\u001b[0m\u001b[0;34m.\u001b[0m\u001b[0mread\u001b[0m\u001b[0;34m(\u001b[0m\u001b[0mnrows\u001b[0m\u001b[0;34m)\u001b[0m\u001b[0;34m\u001b[0m\u001b[0m\n\u001b[0m\u001b[1;32m   1070\u001b[0m \u001b[0;34m\u001b[0m\u001b[0m\n\u001b[1;32m   1071\u001b[0m         \u001b[0;32mif\u001b[0m \u001b[0mself\u001b[0m\u001b[0;34m.\u001b[0m\u001b[0moptions\u001b[0m\u001b[0;34m.\u001b[0m\u001b[0mget\u001b[0m\u001b[0;34m(\u001b[0m\u001b[0;34m'as_recarray'\u001b[0m\u001b[0;34m)\u001b[0m\u001b[0;34m:\u001b[0m\u001b[0;34m\u001b[0m\u001b[0m\n",
            "\u001b[0;32m/usr/local/lib/python3.6/dist-packages/pandas/io/parsers.py\u001b[0m in \u001b[0;36mread\u001b[0;34m(self, nrows)\u001b[0m\n\u001b[1;32m   1837\u001b[0m     \u001b[0;32mdef\u001b[0m \u001b[0mread\u001b[0m\u001b[0;34m(\u001b[0m\u001b[0mself\u001b[0m\u001b[0;34m,\u001b[0m \u001b[0mnrows\u001b[0m\u001b[0;34m=\u001b[0m\u001b[0;32mNone\u001b[0m\u001b[0;34m)\u001b[0m\u001b[0;34m:\u001b[0m\u001b[0;34m\u001b[0m\u001b[0m\n\u001b[1;32m   1838\u001b[0m         \u001b[0;32mtry\u001b[0m\u001b[0;34m:\u001b[0m\u001b[0;34m\u001b[0m\u001b[0m\n\u001b[0;32m-> 1839\u001b[0;31m             \u001b[0mdata\u001b[0m \u001b[0;34m=\u001b[0m \u001b[0mself\u001b[0m\u001b[0;34m.\u001b[0m\u001b[0m_reader\u001b[0m\u001b[0;34m.\u001b[0m\u001b[0mread\u001b[0m\u001b[0;34m(\u001b[0m\u001b[0mnrows\u001b[0m\u001b[0;34m)\u001b[0m\u001b[0;34m\u001b[0m\u001b[0m\n\u001b[0m\u001b[1;32m   1840\u001b[0m         \u001b[0;32mexcept\u001b[0m \u001b[0mStopIteration\u001b[0m\u001b[0;34m:\u001b[0m\u001b[0;34m\u001b[0m\u001b[0m\n\u001b[1;32m   1841\u001b[0m             \u001b[0;32mif\u001b[0m \u001b[0mself\u001b[0m\u001b[0;34m.\u001b[0m\u001b[0m_first_chunk\u001b[0m\u001b[0;34m:\u001b[0m\u001b[0;34m\u001b[0m\u001b[0m\n",
            "\u001b[0;32mpandas/_libs/parsers.pyx\u001b[0m in \u001b[0;36mpandas._libs.parsers.TextReader.read\u001b[0;34m()\u001b[0m\n",
            "\u001b[0;32mpandas/_libs/parsers.pyx\u001b[0m in \u001b[0;36mpandas._libs.parsers.TextReader._read_low_memory\u001b[0;34m()\u001b[0m\n",
            "\u001b[0;32mpandas/_libs/parsers.pyx\u001b[0m in \u001b[0;36mpandas._libs.parsers.TextReader._read_rows\u001b[0;34m()\u001b[0m\n",
            "\u001b[0;32mpandas/_libs/parsers.pyx\u001b[0m in \u001b[0;36mpandas._libs.parsers.TextReader._tokenize_rows\u001b[0;34m()\u001b[0m\n",
            "\u001b[0;32mpandas/_libs/parsers.pyx\u001b[0m in \u001b[0;36mpandas._libs.parsers.raise_parser_error\u001b[0;34m()\u001b[0m\n",
            "\u001b[0;31mParserError\u001b[0m: Error tokenizing data. C error: Expected 20 fields in line 14, saw 369\n"
          ]
        }
      ]
    },
    {
      "metadata": {
        "id": "K_GQKLL38X-Z",
        "colab_type": "code",
        "outputId": "48774731-9088-4d86-d3fa-3f8d0627ab72",
        "colab": {}
      },
      "cell_type": "code",
      "source": [
        "data.head()"
      ],
      "execution_count": 0,
      "outputs": [
        {
          "output_type": "execute_result",
          "data": {
            "text/html": [
              "<div>\n",
              "<style scoped>\n",
              "    .dataframe tbody tr th:only-of-type {\n",
              "        vertical-align: middle;\n",
              "    }\n",
              "\n",
              "    .dataframe tbody tr th {\n",
              "        vertical-align: top;\n",
              "    }\n",
              "\n",
              "    .dataframe thead th {\n",
              "        text-align: right;\n",
              "    }\n",
              "</style>\n",
              "<table border=\"1\" class=\"dataframe\">\n",
              "  <thead>\n",
              "    <tr style=\"text-align: right;\">\n",
              "      <th></th>\n",
              "      <th>id</th>\n",
              "      <th>p</th>\n",
              "      <th>theta</th>\n",
              "      <th>beta</th>\n",
              "      <th>nphe</th>\n",
              "      <th>ein</th>\n",
              "      <th>eout</th>\n",
              "    </tr>\n",
              "  </thead>\n",
              "  <tbody>\n",
              "    <tr>\n",
              "      <th>0</th>\n",
              "      <td>211</td>\n",
              "      <td>0.780041</td>\n",
              "      <td>1.081480</td>\n",
              "      <td>0.989962</td>\n",
              "      <td>0</td>\n",
              "      <td>0.000000</td>\n",
              "      <td>0.000000</td>\n",
              "    </tr>\n",
              "    <tr>\n",
              "      <th>1</th>\n",
              "      <td>211</td>\n",
              "      <td>0.260929</td>\n",
              "      <td>0.778892</td>\n",
              "      <td>0.902450</td>\n",
              "      <td>0</td>\n",
              "      <td>0.000000</td>\n",
              "      <td>0.000000</td>\n",
              "    </tr>\n",
              "    <tr>\n",
              "      <th>2</th>\n",
              "      <td>2212</td>\n",
              "      <td>0.773022</td>\n",
              "      <td>0.185953</td>\n",
              "      <td>0.642428</td>\n",
              "      <td>4</td>\n",
              "      <td>0.101900</td>\n",
              "      <td>0.000000</td>\n",
              "    </tr>\n",
              "    <tr>\n",
              "      <th>3</th>\n",
              "      <td>211</td>\n",
              "      <td>0.476997</td>\n",
              "      <td>0.445561</td>\n",
              "      <td>0.951471</td>\n",
              "      <td>0</td>\n",
              "      <td>0.000000</td>\n",
              "      <td>0.000000</td>\n",
              "    </tr>\n",
              "    <tr>\n",
              "      <th>4</th>\n",
              "      <td>2212</td>\n",
              "      <td>2.123290</td>\n",
              "      <td>0.337332</td>\n",
              "      <td>0.908652</td>\n",
              "      <td>0</td>\n",
              "      <td>0.034379</td>\n",
              "      <td>0.049256</td>\n",
              "    </tr>\n",
              "  </tbody>\n",
              "</table>\n",
              "</div>"
            ],
            "text/plain": [
              "     id         p     theta      beta  nphe       ein      eout\n",
              "0   211  0.780041  1.081480  0.989962     0  0.000000  0.000000\n",
              "1   211  0.260929  0.778892  0.902450     0  0.000000  0.000000\n",
              "2  2212  0.773022  0.185953  0.642428     4  0.101900  0.000000\n",
              "3   211  0.476997  0.445561  0.951471     0  0.000000  0.000000\n",
              "4  2212  2.123290  0.337332  0.908652     0  0.034379  0.049256"
            ]
          },
          "metadata": {
            "tags": []
          },
          "execution_count": 3
        }
      ]
    },
    {
      "metadata": {
        "id": "ichPehDD8X-g",
        "colab_type": "code",
        "outputId": "cd2df974-0f2b-4cdf-81fc-dfcb26f32792",
        "colab": {}
      },
      "cell_type": "code",
      "source": [
        "data.describe()"
      ],
      "execution_count": 0,
      "outputs": [
        {
          "output_type": "execute_result",
          "data": {
            "text/html": [
              "<div>\n",
              "<style scoped>\n",
              "    .dataframe tbody tr th:only-of-type {\n",
              "        vertical-align: middle;\n",
              "    }\n",
              "\n",
              "    .dataframe tbody tr th {\n",
              "        vertical-align: top;\n",
              "    }\n",
              "\n",
              "    .dataframe thead th {\n",
              "        text-align: right;\n",
              "    }\n",
              "</style>\n",
              "<table border=\"1\" class=\"dataframe\">\n",
              "  <thead>\n",
              "    <tr style=\"text-align: right;\">\n",
              "      <th></th>\n",
              "      <th>id</th>\n",
              "      <th>p</th>\n",
              "      <th>theta</th>\n",
              "      <th>beta</th>\n",
              "      <th>nphe</th>\n",
              "      <th>ein</th>\n",
              "      <th>eout</th>\n",
              "    </tr>\n",
              "  </thead>\n",
              "  <tbody>\n",
              "    <tr>\n",
              "      <th>count</th>\n",
              "      <td>5.000000e+06</td>\n",
              "      <td>5.000000e+06</td>\n",
              "      <td>5.000000e+06</td>\n",
              "      <td>5.000000e+06</td>\n",
              "      <td>5.000000e+06</td>\n",
              "      <td>5.000000e+06</td>\n",
              "      <td>5.000000e+06</td>\n",
              "    </tr>\n",
              "    <tr>\n",
              "      <th>mean</th>\n",
              "      <td>9.941839e+02</td>\n",
              "      <td>1.230053e+00</td>\n",
              "      <td>4.889321e-01</td>\n",
              "      <td>8.995796e-01</td>\n",
              "      <td>3.575243e+00</td>\n",
              "      <td>5.635883e-02</td>\n",
              "      <td>7.033195e-02</td>\n",
              "    </tr>\n",
              "    <tr>\n",
              "      <th>std</th>\n",
              "      <td>9.724034e+02</td>\n",
              "      <td>7.414895e-01</td>\n",
              "      <td>2.942161e-01</td>\n",
              "      <td>1.132321e-01</td>\n",
              "      <td>1.779236e+01</td>\n",
              "      <td>7.882675e-02</td>\n",
              "      <td>1.020604e-01</td>\n",
              "    </tr>\n",
              "    <tr>\n",
              "      <th>min</th>\n",
              "      <td>-1.100000e+01</td>\n",
              "      <td>2.101170e-01</td>\n",
              "      <td>9.222140e-02</td>\n",
              "      <td>5.500010e-01</td>\n",
              "      <td>0.000000e+00</td>\n",
              "      <td>0.000000e+00</td>\n",
              "      <td>0.000000e+00</td>\n",
              "    </tr>\n",
              "    <tr>\n",
              "      <th>25%</th>\n",
              "      <td>2.110000e+02</td>\n",
              "      <td>6.657510e-01</td>\n",
              "      <td>2.817420e-01</td>\n",
              "      <td>8.378760e-01</td>\n",
              "      <td>0.000000e+00</td>\n",
              "      <td>0.000000e+00</td>\n",
              "      <td>0.000000e+00</td>\n",
              "    </tr>\n",
              "    <tr>\n",
              "      <th>50%</th>\n",
              "      <td>2.110000e+02</td>\n",
              "      <td>1.066150e+00</td>\n",
              "      <td>4.048670e-01</td>\n",
              "      <td>9.461940e-01</td>\n",
              "      <td>0.000000e+00</td>\n",
              "      <td>3.442440e-02</td>\n",
              "      <td>4.417490e-02</td>\n",
              "    </tr>\n",
              "    <tr>\n",
              "      <th>75%</th>\n",
              "      <td>2.212000e+03</td>\n",
              "      <td>1.649650e+00</td>\n",
              "      <td>6.117800e-01</td>\n",
              "      <td>9.855910e-01</td>\n",
              "      <td>0.000000e+00</td>\n",
              "      <td>6.834520e-02</td>\n",
              "      <td>9.365990e-02</td>\n",
              "    </tr>\n",
              "    <tr>\n",
              "      <th>max</th>\n",
              "      <td>2.212000e+03</td>\n",
              "      <td>5.286950e+00</td>\n",
              "      <td>2.219270e+00</td>\n",
              "      <td>1.499590e+00</td>\n",
              "      <td>3.490000e+02</td>\n",
              "      <td>8.993820e-01</td>\n",
              "      <td>1.097410e+00</td>\n",
              "    </tr>\n",
              "  </tbody>\n",
              "</table>\n",
              "</div>"
            ],
            "text/plain": [
              "                 id             p         theta          beta          nphe  \\\n",
              "count  5.000000e+06  5.000000e+06  5.000000e+06  5.000000e+06  5.000000e+06   \n",
              "mean   9.941839e+02  1.230053e+00  4.889321e-01  8.995796e-01  3.575243e+00   \n",
              "std    9.724034e+02  7.414895e-01  2.942161e-01  1.132321e-01  1.779236e+01   \n",
              "min   -1.100000e+01  2.101170e-01  9.222140e-02  5.500010e-01  0.000000e+00   \n",
              "25%    2.110000e+02  6.657510e-01  2.817420e-01  8.378760e-01  0.000000e+00   \n",
              "50%    2.110000e+02  1.066150e+00  4.048670e-01  9.461940e-01  0.000000e+00   \n",
              "75%    2.212000e+03  1.649650e+00  6.117800e-01  9.855910e-01  0.000000e+00   \n",
              "max    2.212000e+03  5.286950e+00  2.219270e+00  1.499590e+00  3.490000e+02   \n",
              "\n",
              "                ein          eout  \n",
              "count  5.000000e+06  5.000000e+06  \n",
              "mean   5.635883e-02  7.033195e-02  \n",
              "std    7.882675e-02  1.020604e-01  \n",
              "min    0.000000e+00  0.000000e+00  \n",
              "25%    0.000000e+00  0.000000e+00  \n",
              "50%    3.442440e-02  4.417490e-02  \n",
              "75%    6.834520e-02  9.365990e-02  \n",
              "max    8.993820e-01  1.097410e+00  "
            ]
          },
          "metadata": {
            "tags": []
          },
          "execution_count": 4
        }
      ]
    },
    {
      "metadata": {
        "id": "RLrZI6xS8X-n",
        "colab_type": "code",
        "colab": {}
      },
      "cell_type": "code",
      "source": [
        "data['id'] = data['id'].map( {-11: 'positron', 211: 'pion',321:'kaon',2212:'proton'} ).astype(str)"
      ],
      "execution_count": 0,
      "outputs": []
    },
    {
      "metadata": {
        "id": "WVANOV2v8X-t",
        "colab_type": "code",
        "outputId": "77e8176b-832d-451c-8b12-b4644fd354f7",
        "colab": {}
      },
      "cell_type": "code",
      "source": [
        "data.head()"
      ],
      "execution_count": 0,
      "outputs": [
        {
          "output_type": "execute_result",
          "data": {
            "text/html": [
              "<div>\n",
              "<style scoped>\n",
              "    .dataframe tbody tr th:only-of-type {\n",
              "        vertical-align: middle;\n",
              "    }\n",
              "\n",
              "    .dataframe tbody tr th {\n",
              "        vertical-align: top;\n",
              "    }\n",
              "\n",
              "    .dataframe thead th {\n",
              "        text-align: right;\n",
              "    }\n",
              "</style>\n",
              "<table border=\"1\" class=\"dataframe\">\n",
              "  <thead>\n",
              "    <tr style=\"text-align: right;\">\n",
              "      <th></th>\n",
              "      <th>id</th>\n",
              "      <th>p</th>\n",
              "      <th>theta</th>\n",
              "      <th>beta</th>\n",
              "      <th>nphe</th>\n",
              "      <th>ein</th>\n",
              "      <th>eout</th>\n",
              "    </tr>\n",
              "  </thead>\n",
              "  <tbody>\n",
              "    <tr>\n",
              "      <th>0</th>\n",
              "      <td>pion</td>\n",
              "      <td>0.780041</td>\n",
              "      <td>1.081480</td>\n",
              "      <td>0.989962</td>\n",
              "      <td>0</td>\n",
              "      <td>0.000000</td>\n",
              "      <td>0.000000</td>\n",
              "    </tr>\n",
              "    <tr>\n",
              "      <th>1</th>\n",
              "      <td>pion</td>\n",
              "      <td>0.260929</td>\n",
              "      <td>0.778892</td>\n",
              "      <td>0.902450</td>\n",
              "      <td>0</td>\n",
              "      <td>0.000000</td>\n",
              "      <td>0.000000</td>\n",
              "    </tr>\n",
              "    <tr>\n",
              "      <th>2</th>\n",
              "      <td>proton</td>\n",
              "      <td>0.773022</td>\n",
              "      <td>0.185953</td>\n",
              "      <td>0.642428</td>\n",
              "      <td>4</td>\n",
              "      <td>0.101900</td>\n",
              "      <td>0.000000</td>\n",
              "    </tr>\n",
              "    <tr>\n",
              "      <th>3</th>\n",
              "      <td>pion</td>\n",
              "      <td>0.476997</td>\n",
              "      <td>0.445561</td>\n",
              "      <td>0.951471</td>\n",
              "      <td>0</td>\n",
              "      <td>0.000000</td>\n",
              "      <td>0.000000</td>\n",
              "    </tr>\n",
              "    <tr>\n",
              "      <th>4</th>\n",
              "      <td>proton</td>\n",
              "      <td>2.123290</td>\n",
              "      <td>0.337332</td>\n",
              "      <td>0.908652</td>\n",
              "      <td>0</td>\n",
              "      <td>0.034379</td>\n",
              "      <td>0.049256</td>\n",
              "    </tr>\n",
              "  </tbody>\n",
              "</table>\n",
              "</div>"
            ],
            "text/plain": [
              "       id         p     theta      beta  nphe       ein      eout\n",
              "0    pion  0.780041  1.081480  0.989962     0  0.000000  0.000000\n",
              "1    pion  0.260929  0.778892  0.902450     0  0.000000  0.000000\n",
              "2  proton  0.773022  0.185953  0.642428     4  0.101900  0.000000\n",
              "3    pion  0.476997  0.445561  0.951471     0  0.000000  0.000000\n",
              "4  proton  2.123290  0.337332  0.908652     0  0.034379  0.049256"
            ]
          },
          "metadata": {
            "tags": []
          },
          "execution_count": 6
        }
      ]
    },
    {
      "metadata": {
        "id": "G9fZWBrq8X-0",
        "colab_type": "code",
        "colab": {}
      },
      "cell_type": "code",
      "source": [
        "data['id'] = data['id'].map( { 'positron':0, 'pion':1,'kaon':2,'proton':3} ).astype(int)"
      ],
      "execution_count": 0,
      "outputs": []
    },
    {
      "metadata": {
        "id": "E9xiCxuh8X_B",
        "colab_type": "code",
        "outputId": "ef8000fe-7840-433b-c19b-abcfc22e4bb1",
        "colab": {}
      },
      "cell_type": "code",
      "source": [
        "data.head()"
      ],
      "execution_count": 0,
      "outputs": [
        {
          "output_type": "execute_result",
          "data": {
            "text/html": [
              "<div>\n",
              "<style scoped>\n",
              "    .dataframe tbody tr th:only-of-type {\n",
              "        vertical-align: middle;\n",
              "    }\n",
              "\n",
              "    .dataframe tbody tr th {\n",
              "        vertical-align: top;\n",
              "    }\n",
              "\n",
              "    .dataframe thead th {\n",
              "        text-align: right;\n",
              "    }\n",
              "</style>\n",
              "<table border=\"1\" class=\"dataframe\">\n",
              "  <thead>\n",
              "    <tr style=\"text-align: right;\">\n",
              "      <th></th>\n",
              "      <th>id</th>\n",
              "      <th>p</th>\n",
              "      <th>theta</th>\n",
              "      <th>beta</th>\n",
              "      <th>nphe</th>\n",
              "      <th>ein</th>\n",
              "      <th>eout</th>\n",
              "    </tr>\n",
              "  </thead>\n",
              "  <tbody>\n",
              "    <tr>\n",
              "      <th>0</th>\n",
              "      <td>1</td>\n",
              "      <td>0.780041</td>\n",
              "      <td>1.081480</td>\n",
              "      <td>0.989962</td>\n",
              "      <td>0</td>\n",
              "      <td>0.000000</td>\n",
              "      <td>0.000000</td>\n",
              "    </tr>\n",
              "    <tr>\n",
              "      <th>1</th>\n",
              "      <td>1</td>\n",
              "      <td>0.260929</td>\n",
              "      <td>0.778892</td>\n",
              "      <td>0.902450</td>\n",
              "      <td>0</td>\n",
              "      <td>0.000000</td>\n",
              "      <td>0.000000</td>\n",
              "    </tr>\n",
              "    <tr>\n",
              "      <th>2</th>\n",
              "      <td>3</td>\n",
              "      <td>0.773022</td>\n",
              "      <td>0.185953</td>\n",
              "      <td>0.642428</td>\n",
              "      <td>4</td>\n",
              "      <td>0.101900</td>\n",
              "      <td>0.000000</td>\n",
              "    </tr>\n",
              "    <tr>\n",
              "      <th>3</th>\n",
              "      <td>1</td>\n",
              "      <td>0.476997</td>\n",
              "      <td>0.445561</td>\n",
              "      <td>0.951471</td>\n",
              "      <td>0</td>\n",
              "      <td>0.000000</td>\n",
              "      <td>0.000000</td>\n",
              "    </tr>\n",
              "    <tr>\n",
              "      <th>4</th>\n",
              "      <td>3</td>\n",
              "      <td>2.123290</td>\n",
              "      <td>0.337332</td>\n",
              "      <td>0.908652</td>\n",
              "      <td>0</td>\n",
              "      <td>0.034379</td>\n",
              "      <td>0.049256</td>\n",
              "    </tr>\n",
              "  </tbody>\n",
              "</table>\n",
              "</div>"
            ],
            "text/plain": [
              "   id         p     theta      beta  nphe       ein      eout\n",
              "0   1  0.780041  1.081480  0.989962     0  0.000000  0.000000\n",
              "1   1  0.260929  0.778892  0.902450     0  0.000000  0.000000\n",
              "2   3  0.773022  0.185953  0.642428     4  0.101900  0.000000\n",
              "3   1  0.476997  0.445561  0.951471     0  0.000000  0.000000\n",
              "4   3  2.123290  0.337332  0.908652     0  0.034379  0.049256"
            ]
          },
          "metadata": {
            "tags": []
          },
          "execution_count": 8
        }
      ]
    },
    {
      "metadata": {
        "id": "oEtl6n_p8X_J",
        "colab_type": "code",
        "outputId": "aaed2030-df38-4d42-fb70-298cff4871f9",
        "colab": {}
      },
      "cell_type": "code",
      "source": [
        "train_data = data.iloc[0:int(len(data)*0.7),:]\n",
        "train_data.tail()"
      ],
      "execution_count": 0,
      "outputs": [
        {
          "output_type": "execute_result",
          "data": {
            "text/html": [
              "<div>\n",
              "<style scoped>\n",
              "    .dataframe tbody tr th:only-of-type {\n",
              "        vertical-align: middle;\n",
              "    }\n",
              "\n",
              "    .dataframe tbody tr th {\n",
              "        vertical-align: top;\n",
              "    }\n",
              "\n",
              "    .dataframe thead th {\n",
              "        text-align: right;\n",
              "    }\n",
              "</style>\n",
              "<table border=\"1\" class=\"dataframe\">\n",
              "  <thead>\n",
              "    <tr style=\"text-align: right;\">\n",
              "      <th></th>\n",
              "      <th>id</th>\n",
              "      <th>p</th>\n",
              "      <th>theta</th>\n",
              "      <th>beta</th>\n",
              "      <th>nphe</th>\n",
              "      <th>ein</th>\n",
              "      <th>eout</th>\n",
              "    </tr>\n",
              "  </thead>\n",
              "  <tbody>\n",
              "    <tr>\n",
              "      <th>3499995</th>\n",
              "      <td>1</td>\n",
              "      <td>0.261997</td>\n",
              "      <td>1.388530</td>\n",
              "      <td>0.903495</td>\n",
              "      <td>0</td>\n",
              "      <td>0.000000</td>\n",
              "      <td>0.000000</td>\n",
              "    </tr>\n",
              "    <tr>\n",
              "      <th>3499996</th>\n",
              "      <td>1</td>\n",
              "      <td>0.623789</td>\n",
              "      <td>0.491173</td>\n",
              "      <td>0.982353</td>\n",
              "      <td>0</td>\n",
              "      <td>0.044358</td>\n",
              "      <td>0.048524</td>\n",
              "    </tr>\n",
              "    <tr>\n",
              "      <th>3499997</th>\n",
              "      <td>3</td>\n",
              "      <td>2.925000</td>\n",
              "      <td>0.172082</td>\n",
              "      <td>0.939450</td>\n",
              "      <td>0</td>\n",
              "      <td>0.025544</td>\n",
              "      <td>0.065324</td>\n",
              "    </tr>\n",
              "    <tr>\n",
              "      <th>3499998</th>\n",
              "      <td>3</td>\n",
              "      <td>1.017010</td>\n",
              "      <td>0.615446</td>\n",
              "      <td>0.742975</td>\n",
              "      <td>0</td>\n",
              "      <td>0.039231</td>\n",
              "      <td>0.118196</td>\n",
              "    </tr>\n",
              "    <tr>\n",
              "      <th>3499999</th>\n",
              "      <td>1</td>\n",
              "      <td>0.315862</td>\n",
              "      <td>0.546411</td>\n",
              "      <td>0.916875</td>\n",
              "      <td>0</td>\n",
              "      <td>0.000000</td>\n",
              "      <td>0.000000</td>\n",
              "    </tr>\n",
              "  </tbody>\n",
              "</table>\n",
              "</div>"
            ],
            "text/plain": [
              "         id         p     theta      beta  nphe       ein      eout\n",
              "3499995   1  0.261997  1.388530  0.903495     0  0.000000  0.000000\n",
              "3499996   1  0.623789  0.491173  0.982353     0  0.044358  0.048524\n",
              "3499997   3  2.925000  0.172082  0.939450     0  0.025544  0.065324\n",
              "3499998   3  1.017010  0.615446  0.742975     0  0.039231  0.118196\n",
              "3499999   1  0.315862  0.546411  0.916875     0  0.000000  0.000000"
            ]
          },
          "metadata": {
            "tags": []
          },
          "execution_count": 9
        }
      ]
    },
    {
      "metadata": {
        "id": "FsJW2QwY8X_O",
        "colab_type": "code",
        "outputId": "4d702b9e-229a-4d6c-996c-23b4c3ccdf2a",
        "colab": {}
      },
      "cell_type": "code",
      "source": [
        "test_data = data.iloc[int(len(data)*0.7):,:]\n",
        "test_data.head()"
      ],
      "execution_count": 0,
      "outputs": [
        {
          "output_type": "execute_result",
          "data": {
            "text/html": [
              "<div>\n",
              "<style scoped>\n",
              "    .dataframe tbody tr th:only-of-type {\n",
              "        vertical-align: middle;\n",
              "    }\n",
              "\n",
              "    .dataframe tbody tr th {\n",
              "        vertical-align: top;\n",
              "    }\n",
              "\n",
              "    .dataframe thead th {\n",
              "        text-align: right;\n",
              "    }\n",
              "</style>\n",
              "<table border=\"1\" class=\"dataframe\">\n",
              "  <thead>\n",
              "    <tr style=\"text-align: right;\">\n",
              "      <th></th>\n",
              "      <th>id</th>\n",
              "      <th>p</th>\n",
              "      <th>theta</th>\n",
              "      <th>beta</th>\n",
              "      <th>nphe</th>\n",
              "      <th>ein</th>\n",
              "      <th>eout</th>\n",
              "    </tr>\n",
              "  </thead>\n",
              "  <tbody>\n",
              "    <tr>\n",
              "      <th>3500000</th>\n",
              "      <td>1</td>\n",
              "      <td>0.643931</td>\n",
              "      <td>0.549808</td>\n",
              "      <td>0.985108</td>\n",
              "      <td>0</td>\n",
              "      <td>0.000000</td>\n",
              "      <td>0.000000</td>\n",
              "    </tr>\n",
              "    <tr>\n",
              "      <th>3500001</th>\n",
              "      <td>3</td>\n",
              "      <td>2.757920</td>\n",
              "      <td>0.230921</td>\n",
              "      <td>0.954517</td>\n",
              "      <td>0</td>\n",
              "      <td>0.284779</td>\n",
              "      <td>0.093339</td>\n",
              "    </tr>\n",
              "    <tr>\n",
              "      <th>3500002</th>\n",
              "      <td>1</td>\n",
              "      <td>0.675975</td>\n",
              "      <td>0.415607</td>\n",
              "      <td>0.975645</td>\n",
              "      <td>0</td>\n",
              "      <td>0.112337</td>\n",
              "      <td>0.000000</td>\n",
              "    </tr>\n",
              "    <tr>\n",
              "      <th>3500003</th>\n",
              "      <td>3</td>\n",
              "      <td>1.653930</td>\n",
              "      <td>0.474822</td>\n",
              "      <td>0.882879</td>\n",
              "      <td>0</td>\n",
              "      <td>0.048203</td>\n",
              "      <td>0.058778</td>\n",
              "    </tr>\n",
              "    <tr>\n",
              "      <th>3500004</th>\n",
              "      <td>1</td>\n",
              "      <td>0.929122</td>\n",
              "      <td>0.130140</td>\n",
              "      <td>0.984750</td>\n",
              "      <td>0</td>\n",
              "      <td>0.203067</td>\n",
              "      <td>0.000000</td>\n",
              "    </tr>\n",
              "  </tbody>\n",
              "</table>\n",
              "</div>"
            ],
            "text/plain": [
              "         id         p     theta      beta  nphe       ein      eout\n",
              "3500000   1  0.643931  0.549808  0.985108     0  0.000000  0.000000\n",
              "3500001   3  2.757920  0.230921  0.954517     0  0.284779  0.093339\n",
              "3500002   1  0.675975  0.415607  0.975645     0  0.112337  0.000000\n",
              "3500003   3  1.653930  0.474822  0.882879     0  0.048203  0.058778\n",
              "3500004   1  0.929122  0.130140  0.984750     0  0.203067  0.000000"
            ]
          },
          "metadata": {
            "tags": []
          },
          "execution_count": 10
        }
      ]
    },
    {
      "metadata": {
        "id": "J2iIV7728X_T",
        "colab_type": "code",
        "colab": {}
      },
      "cell_type": "code",
      "source": [
        "Y_train = train_data['id']\n",
        "X_train = train_data.drop('id',axis=1)"
      ],
      "execution_count": 0,
      "outputs": []
    },
    {
      "metadata": {
        "id": "smPaz_DC8X_W",
        "colab_type": "code",
        "colab": {}
      },
      "cell_type": "code",
      "source": [
        "Y_test = test_data['id']\n",
        "X_test = test_data.drop('id',axis=1)"
      ],
      "execution_count": 0,
      "outputs": []
    },
    {
      "metadata": {
        "id": "lzqsy7iz8X_c",
        "colab_type": "code",
        "outputId": "16d886f3-b403-4412-8111-54dea17cbce8",
        "colab": {}
      },
      "cell_type": "code",
      "source": [
        "import tensorflow as tf\n",
        "import keras\n",
        "import numpy as np"
      ],
      "execution_count": 0,
      "outputs": [
        {
          "output_type": "stream",
          "text": [
            "C:\\ProgramData\\Anaconda3\\lib\\site-packages\\h5py\\__init__.py:36: FutureWarning: Conversion of the second argument of issubdtype from `float` to `np.floating` is deprecated. In future, it will be treated as `np.float64 == np.dtype(float).type`.\n",
            "  from ._conv import register_converters as _register_converters\n",
            "Using TensorFlow backend.\n"
          ],
          "name": "stderr"
        }
      ]
    },
    {
      "metadata": {
        "id": "KbuDNTqS8X_f",
        "colab_type": "code",
        "colab": {}
      },
      "cell_type": "code",
      "source": [
        "#one-hot encoding\n",
        "y_train = tf.keras.utils.to_categorical(Y_train,4)\n",
        "y_test = tf.keras.utils.to_categorical(Y_test,4)"
      ],
      "execution_count": 0,
      "outputs": []
    },
    {
      "metadata": {
        "id": "qTbd6Yga8X_k",
        "colab_type": "code",
        "outputId": "0cdb5b9b-d0e1-430d-b46e-abb140d52013",
        "colab": {}
      },
      "cell_type": "code",
      "source": [
        "x_train = np.array(X_train)\n",
        "x_test=np.array(X_test)\n",
        "np.shape(y_train)"
      ],
      "execution_count": 0,
      "outputs": [
        {
          "output_type": "execute_result",
          "data": {
            "text/plain": [
              "(3500000, 4)"
            ]
          },
          "metadata": {
            "tags": []
          },
          "execution_count": 18
        }
      ]
    },
    {
      "metadata": {
        "id": "VdVSOMzq8X_t",
        "colab_type": "text"
      },
      "cell_type": "markdown",
      "source": [
        "# deep learning"
      ]
    },
    {
      "metadata": {
        "id": "sAJljvW78X_u",
        "colab_type": "code",
        "colab": {}
      },
      "cell_type": "code",
      "source": [
        "import keras"
      ],
      "execution_count": 0,
      "outputs": []
    },
    {
      "metadata": {
        "id": "pdFA9c8D8X_x",
        "colab_type": "code",
        "colab": {}
      },
      "cell_type": "code",
      "source": [
        "Nin = 6\n",
        "Nh = 100\n",
        "number_of_class = 4\n",
        "Nout = number_of_class"
      ],
      "execution_count": 0,
      "outputs": []
    },
    {
      "metadata": {
        "id": "8yjRYLSU8X_1",
        "colab_type": "code",
        "colab": {}
      },
      "cell_type": "code",
      "source": [
        "model = keras.models.Sequential()\n",
        "model.add(keras.layers.Dense(Nh, activation='relu', input_shape=(Nin,)))\n",
        "model.add(keras.layers.Dense(Nh, activation='relu'))\n",
        "model.add(keras.layers.Dense(4, activation='softmax'))"
      ],
      "execution_count": 0,
      "outputs": []
    },
    {
      "metadata": {
        "id": "pq19S0Hm8X_4",
        "colab_type": "code",
        "colab": {}
      },
      "cell_type": "code",
      "source": [
        "model.compile(optimizer='adam',\n",
        "              loss=keras.losses.categorical_crossentropy,\n",
        "              metrics=['accuracy'])"
      ],
      "execution_count": 0,
      "outputs": []
    },
    {
      "metadata": {
        "id": "1Bj4Tnu98X_8",
        "colab_type": "code",
        "outputId": "617fa16a-03f1-4962-e7b5-556d73fcd61b",
        "colab": {}
      },
      "cell_type": "code",
      "source": [
        "model.summary()"
      ],
      "execution_count": 0,
      "outputs": [
        {
          "output_type": "stream",
          "text": [
            "_________________________________________________________________\n",
            "Layer (type)                 Output Shape              Param #   \n",
            "=================================================================\n",
            "dense_1 (Dense)              (None, 100)               700       \n",
            "_________________________________________________________________\n",
            "dense_2 (Dense)              (None, 100)               10100     \n",
            "_________________________________________________________________\n",
            "dense_3 (Dense)              (None, 4)                 404       \n",
            "=================================================================\n",
            "Total params: 11,204\n",
            "Trainable params: 11,204\n",
            "Non-trainable params: 0\n",
            "_________________________________________________________________\n"
          ],
          "name": "stdout"
        }
      ]
    },
    {
      "metadata": {
        "scrolled": true,
        "id": "rwNS0Q9D8X__",
        "colab_type": "code",
        "outputId": "6bced627-511b-4c08-d569-b790a9f2c161",
        "colab": {}
      },
      "cell_type": "code",
      "source": [
        "history = model.fit(x_train, y_train,batch_size=500, epochs=5)"
      ],
      "execution_count": 0,
      "outputs": [
        {
          "output_type": "stream",
          "text": [
            "Epoch 1/5\n",
            "3500000/3500000 [==============================] - 28s 8us/step - loss: 0.1620 - acc: 0.9495\n",
            "Epoch 2/5\n",
            "3500000/3500000 [==============================] - 27s 8us/step - loss: 0.0979 - acc: 0.9667\n",
            "Epoch 3/5\n",
            "3500000/3500000 [==============================] - 26s 8us/step - loss: 0.0919 - acc: 0.9680\n",
            "Epoch 4/5\n",
            "3500000/3500000 [==============================] - 27s 8us/step - loss: 0.0893 - acc: 0.9686\n",
            "Epoch 5/5\n",
            "3500000/3500000 [==============================] - 26s 7us/step - loss: 0.0877 - acc: 0.9690\n"
          ],
          "name": "stdout"
        }
      ]
    },
    {
      "metadata": {
        "id": "pkTseEi48YAC",
        "colab_type": "code",
        "outputId": "47a6e8bb-00cd-4aa1-e1a4-b5fc15e81197",
        "colab": {}
      },
      "cell_type": "code",
      "source": [
        "score =model.evaluate(x_test, y_test)"
      ],
      "execution_count": 0,
      "outputs": [
        {
          "output_type": "stream",
          "text": [
            "1500000/1500000 [==============================] - 51s 34us/step\n"
          ],
          "name": "stdout"
        }
      ]
    },
    {
      "metadata": {
        "id": "v66x9HXe8YAH",
        "colab_type": "code",
        "colab": {}
      },
      "cell_type": "code",
      "source": [
        "import matplotlib.pyplot as plt"
      ],
      "execution_count": 0,
      "outputs": []
    },
    {
      "metadata": {
        "id": "MzVo_-558YAN",
        "colab_type": "code",
        "outputId": "f0fa8aff-d01b-47d9-c4e9-87664836b309",
        "colab": {}
      },
      "cell_type": "code",
      "source": [
        "print(\"손실:\",score[0])"
      ],
      "execution_count": 0,
      "outputs": [
        {
          "output_type": "stream",
          "text": [
            "손실: 0.08921519709895799\n"
          ],
          "name": "stdout"
        }
      ]
    },
    {
      "metadata": {
        "id": "dm5aug0c8YAS",
        "colab_type": "code",
        "outputId": "8e203ba4-0d05-4013-cfb2-e0ae19d300ac",
        "colab": {}
      },
      "cell_type": "code",
      "source": [
        "print(\"정확도:\",score[1])"
      ],
      "execution_count": 0,
      "outputs": [
        {
          "output_type": "stream",
          "text": [
            "정확도: 0.9685786666666667\n"
          ],
          "name": "stdout"
        }
      ]
    }
  ]
}
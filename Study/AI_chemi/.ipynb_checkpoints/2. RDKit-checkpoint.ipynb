{
 "cells": [
  {
   "cell_type": "markdown",
   "metadata": {},
   "source": [
    "RDkit 사용법을 알아보고 SVM으로 간단하게 돌려보자"
   ]
  },
  {
   "cell_type": "markdown",
   "metadata": {},
   "source": [
    "# RDkit"
   ]
  },
  {
   "cell_type": "code",
   "execution_count": 19,
   "metadata": {},
   "outputs": [],
   "source": [
    "from rdkit import Chem\n",
    "from rdkit.Chem import AllChem\n",
    "from rdkit.Chem import Draw\n",
    "from rdkit.Chem.Draw import IPythonConsole\n",
    "from IPython.display import Image"
   ]
  },
  {
   "cell_type": "markdown",
   "metadata": {},
   "source": [
    "RDkit을 사용하기 위해 SMILES (Simplified Molecular Input Line Entry System)라는 line 로테이션에 익숙해져야 한다.\n",
    "\n",
    "참고할 만한 사이트\n",
    "- http://www.daylight.com/dayhtml/doc/theory/theory.smiles.html\n",
    "\n",
    "아스피린으로 사용법을 알아보자"
   ]
  },
  {
   "cell_type": "code",
   "execution_count": 14,
   "metadata": {},
   "outputs": [
    {
     "data": {
      "image/png": "[encoded data removed]",
      "text/plain": [
       "<rdkit.Chem.rdchem.Mol at 0x197d2909cb0>"
      ]
     },
     "execution_count": 14,
     "metadata": {},
     "output_type": "execute_result"
    }
   ],
   "source": [
    "# Aspirin\n",
    "smi = 'O=C(C)Oc1ccccc1C(=O)O'\n",
    "m = Chem.MolFromSmiles(smi)\n",
    "m"
   ]
  },
  {
   "cell_type": "markdown",
   "metadata": {},
   "source": [
    "원자가 몇개인지 확인하고 싶을때는 아래의 코드를 실행해서 알 수 있으며, 또 수소까지 추가한것도 알 수 있다."
   ]
  },
  {
   "cell_type": "code",
   "execution_count": 17,
   "metadata": {},
   "outputs": [
    {
     "data": {
      "text/plain": [
       "13"
      ]
     },
     "execution_count": 17,
     "metadata": {},
     "output_type": "execute_result"
    }
   ],
   "source": [
    "#수소제외\n",
    "m.GetNumAtoms()"
   ]
  },
  {
   "cell_type": "code",
   "execution_count": 22,
   "metadata": {},
   "outputs": [
    {
     "data": {
      "image/png": "[encoded data removed]",
      "text/plain": [
       "<rdkit.Chem.rdchem.Mol at 0x197d297be40>"
      ]
     },
     "execution_count": 22,
     "metadata": {},
     "output_type": "execute_result"
    }
   ],
   "source": [
    "# 수소 포함\n",
    "m2 = AllChem.AddHs(m)\n",
    "m2"
   ]
  },
  {
   "cell_type": "code",
   "execution_count": 23,
   "metadata": {},
   "outputs": [
    {
     "data": {
      "text/plain": [
       "21"
      ]
     },
     "execution_count": 23,
     "metadata": {},
     "output_type": "execute_result"
    }
   ],
   "source": [
    "m2.GetNumAtoms()"
   ]
  },
  {
   "cell_type": "markdown",
   "metadata": {},
   "source": [
    "나중에 Graph Neural Network 등을 사용하기 위해서는 그래프 구조의 데이터로 바꿔줄 필요가 있다. 그럴때는 아래 코드로 쉽게 데이터를 얻을 수 있다."
   ]
  },
  {
   "cell_type": "code",
   "execution_count": 24,
   "metadata": {},
   "outputs": [
    {
     "data": {
      "text/plain": [
       "array([[0, 1, 0, 0, 0, 0, 0, 0, 0, 0, 0, 0, 0],\n",
       "       [1, 0, 1, 1, 0, 0, 0, 0, 0, 0, 0, 0, 0],\n",
       "       [0, 1, 0, 0, 0, 0, 0, 0, 0, 0, 0, 0, 0],\n",
       "       [0, 1, 0, 0, 1, 0, 0, 0, 0, 0, 0, 0, 0],\n",
       "       [0, 0, 0, 1, 0, 1, 0, 0, 0, 1, 0, 0, 0],\n",
       "       [0, 0, 0, 0, 1, 0, 1, 0, 0, 0, 0, 0, 0],\n",
       "       [0, 0, 0, 0, 0, 1, 0, 1, 0, 0, 0, 0, 0],\n",
       "       [0, 0, 0, 0, 0, 0, 1, 0, 1, 0, 0, 0, 0],\n",
       "       [0, 0, 0, 0, 0, 0, 0, 1, 0, 1, 0, 0, 0],\n",
       "       [0, 0, 0, 0, 1, 0, 0, 0, 1, 0, 1, 0, 0],\n",
       "       [0, 0, 0, 0, 0, 0, 0, 0, 0, 1, 0, 1, 1],\n",
       "       [0, 0, 0, 0, 0, 0, 0, 0, 0, 0, 1, 0, 0],\n",
       "       [0, 0, 0, 0, 0, 0, 0, 0, 0, 0, 1, 0, 0]], dtype=int32)"
      ]
     },
     "execution_count": 24,
     "metadata": {},
     "output_type": "execute_result"
    }
   ],
   "source": [
    "adj = Chem.rdmolops.GetAdjacencyMatrix(m)\n",
    "adj"
   ]
  },
  {
   "cell_type": "markdown",
   "metadata": {},
   "source": [
    "Adjacency Matrix 는 연결되면 1 아니면 0을 사용한다.\n",
    "\n",
    "그외 추가적인 정보도 얻을 수 있다."
   ]
  },
  {
   "cell_type": "code",
   "execution_count": 25,
   "metadata": {},
   "outputs": [
    {
     "name": "stdout",
     "output_type": "stream",
     "text": [
      "0 th atom is  O , total number of hydrogens is 0 , and aromaticity indicator is False\n",
      "1 th atom is  C , total number of hydrogens is 0 , and aromaticity indicator is False\n",
      "2 th atom is  C , total number of hydrogens is 3 , and aromaticity indicator is False\n",
      "3 th atom is  O , total number of hydrogens is 0 , and aromaticity indicator is False\n",
      "4 th atom is  C , total number of hydrogens is 0 , and aromaticity indicator is True\n",
      "5 th atom is  C , total number of hydrogens is 1 , and aromaticity indicator is True\n",
      "6 th atom is  C , total number of hydrogens is 1 , and aromaticity indicator is True\n",
      "7 th atom is  C , total number of hydrogens is 1 , and aromaticity indicator is True\n",
      "8 th atom is  C , total number of hydrogens is 1 , and aromaticity indicator is True\n",
      "9 th atom is  C , total number of hydrogens is 0 , and aromaticity indicator is True\n",
      "10 th atom is  C , total number of hydrogens is 0 , and aromaticity indicator is False\n",
      "11 th atom is  O , total number of hydrogens is 0 , and aromaticity indicator is False\n",
      "12 th atom is  O , total number of hydrogens is 1 , and aromaticity indicator is False\n"
     ]
    }
   ],
   "source": [
    "for atom in m.GetAtoms():\n",
    "    print (atom.GetIdx(), \"th atom is \", atom.GetSymbol(), \", total number of hydrogens is\", atom.GetTotalNumHs(), \n",
    "           \", and aromaticity indicator is\", atom.GetIsAromatic())"
   ]
  },
  {
   "cell_type": "markdown",
   "metadata": {},
   "source": [
    "이 외에도 다양한 분자의 특성을 알아 낼 수 있다."
   ]
  },
  {
   "cell_type": "code",
   "execution_count": 26,
   "metadata": {},
   "outputs": [
    {
     "data": {
      "text/plain": [
       "(180.042258736, 1.3101, 63.60000000000001, 0.5501217966938848)"
      ]
     },
     "execution_count": 26,
     "metadata": {},
     "output_type": "execute_result"
    }
   ],
   "source": [
    "from rdkit.Chem.Descriptors import ExactMolWt\n",
    "from rdkit.Chem.Crippen import MolLogP\n",
    "from rdkit.Chem.rdMolDescriptors import CalcTPSA\n",
    "from rdkit.Chem.QED import qed\n",
    "\n",
    "molWt = ExactMolWt(m)\n",
    "logP = MolLogP(m)\n",
    "TPSA = CalcTPSA(m)\n",
    "_qed = qed(m)\n",
    "\n",
    "molWt, logP, TPSA, _qed"
   ]
  },
  {
   "cell_type": "markdown",
   "metadata": {},
   "source": [
    "분자의 구조를 2진수 벡터로 나타낸 fingerprint를 얻을 수 있다."
   ]
  },
  {
   "cell_type": "code",
   "execution_count": 29,
   "metadata": {},
   "outputs": [],
   "source": [
    "fp_aspirin = Chem.AllChem.GetMorganFingerprint(m,2)"
   ]
  },
  {
   "cell_type": "markdown",
   "metadata": {},
   "source": [
    "이때 2는 알고리즘의 반복 횟수를 나타낸다.\n",
    "\n",
    "알고리즘에 대해 참고할 주소는 아래확인\n",
    "\n",
    "- https://pubs.acs.org/doi/10.1021/ci100050t \n",
    "- https://docs.chemaxon.com/display/docs/Extended+Connectivity+Fingerprint+ECFP"
   ]
  },
  {
   "cell_type": "markdown",
   "metadata": {},
   "source": [
    "fingerprint로 다른 분자와 유사성을 알아 낼 수 있다.\n",
    "\n",
    "잘 알려진 비스테로이드 항염증제(NSAIDs)인 [아스피린](https://en.wikipedia.org/wiki/Aspirin)과 이부프로펜([Ibuprofen](https://en.wikipedia.org/wiki/Ibuprofen))을 사용해보자\n",
    "\n",
    "그 전에 이부프로펜을 확인하고 fingerprint를 얻어내자"
   ]
  },
  {
   "cell_type": "code",
   "execution_count": 33,
   "metadata": {},
   "outputs": [
    {
     "data": {
      "image/png": "[encoded data removed]",
      "text/plain": [
       "<rdkit.Chem.rdchem.Mol at 0x197d2cf2300>"
      ]
     },
     "execution_count": 33,
     "metadata": {},
     "output_type": "execute_result"
    }
   ],
   "source": [
    "ib_smi = 'CC(C)Cc1ccc(cc1)[C@@H](C)C(=O)O' #from wiki\n",
    "m_ibuprofen = Chem.MolFromSmiles(ib_smi)\n",
    "m_ibuprofen"
   ]
  },
  {
   "cell_type": "code",
   "execution_count": 34,
   "metadata": {},
   "outputs": [],
   "source": [
    "fp_ibuprofen = Chem.AllChem.GetMorganFingerprint(m_ibuprofen, 2)"
   ]
  },
  {
   "cell_type": "markdown",
   "metadata": {},
   "source": [
    "유사성을 확인하기 위해 rdkit의 DataStructs을 사용하자"
   ]
  },
  {
   "cell_type": "code",
   "execution_count": 35,
   "metadata": {},
   "outputs": [
    {
     "data": {
      "text/plain": [
       "0.22950819672131148"
      ]
     },
     "execution_count": 35,
     "metadata": {},
     "output_type": "execute_result"
    }
   ],
   "source": [
    "from rdkit import DataStructs\n",
    "similarity = DataStructs.TanimotoSimilarity(fp_aspirin, fp_ibuprofen)\n",
    "similarity"
   ]
  },
  {
   "cell_type": "markdown",
   "metadata": {},
   "source": [
    "RDkit 튜토리얼 : https://github.com/rdkit/rdkit-tutorials"
   ]
  }
 ],
 "metadata": {
  "kernelspec": {
   "display_name": "Python 3",
   "language": "python",
   "name": "python3"
  },
  "language_info": {
   "codemirror_mode": {
    "name": "ipython",
    "version": 3
   },
   "file_extension": ".py",
   "mimetype": "text/x-python",
   "name": "python",
   "nbconvert_exporter": "python",
   "pygments_lexer": "ipython3",
   "version": "3.6.8"
  }
 },
 "nbformat": 4,
 "nbformat_minor": 2
}

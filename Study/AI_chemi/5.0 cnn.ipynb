{
 "cells": [
  {
   "cell_type": "code",
   "execution_count": 3,
   "metadata": {},
   "outputs": [],
   "source": [
    "import numpy as np\n",
    "import tensorflow as tf\n",
    "import matplotlib.pyplot as plt\n",
    "plt.switch_backend('agg')\n",
    "import sys\n",
    "\n",
    "from rdkit import Chem, DataStructs\n",
    "from rdkit.Chem import AllChem\n",
    "from rdkit.Chem.Crippen import MolLogP\n",
    "from rdkit.Chem.rdMolDescriptors import CalcTPSA"
   ]
  },
  {
   "cell_type": "code",
   "execution_count": 4,
   "metadata": {},
   "outputs": [],
   "source": [
    "def read_data(filename):\n",
    "    f = open(filename + '.smiles', 'r')\n",
    "    contents = f.readlines()\n",
    "\n",
    "    smiles = []\n",
    "    labels = []\n",
    "    for i in contents:\n",
    "        smi = i.split()[0]\n",
    "        label = int(i.split()[2].strip())\n",
    "\n",
    "        smiles.append(smi)\n",
    "        labels.append(label)\n",
    "\n",
    "    num_total = len(smiles)\n",
    "    rand_int = np.random.randint(num_total, size=(num_total,))\n",
    "    \n",
    "    return np.asarray(smiles)[rand_int], np.asarray(labels)[rand_int]\n",
    "\n",
    "def read_ZINC(num_mol):\n",
    "    f = open('ZINC.smiles', 'r')\n",
    "    contents = f.readlines()\n",
    "\n",
    "    smi = []\n",
    "    fps = []\n",
    "    logP = []\n",
    "    tpsa = []\n",
    "    for i in range(num_mol):\n",
    "        smi = contents[i].strip()\n",
    "        m = Chem.MolFromSmiles(smi)\n",
    "        fp = AllChem.GetMorganFingerprintAsBitVect(m,2)\n",
    "        arr = np.zeros((1,))\n",
    "        DataStructs.ConvertToNumpyArray(fp,arr)\n",
    "        fps.append(arr)\n",
    "        logP.append(MolLogP(m))\n",
    "        tpsa.append(CalcTPSA(m))\n",
    "\n",
    "    fps = np.asarray(fps).astype(float)\n",
    "    logP = np.asarray(logP).astype(float)\n",
    "    tpsa = np.asarray(tpsa).astype(float)\n",
    "\n",
    "    return fps, logP, tpsa\n",
    "\n",
    "def read_ZINC_smiles(num_mol):\n",
    "    f = open('ZINC.smiles', 'r')\n",
    "    contents = f.readlines()\n",
    "\n",
    "    smi_list = []\n",
    "    logP_list = []\n",
    "    tpsa_list = []\n",
    "    for i in range(num_mol):\n",
    "        smi = contents[i].strip()\n",
    "        m = Chem.MolFromSmiles(smi)\n",
    "        smi_list.append(smi)\n",
    "        logP_list.append(MolLogP(m))\n",
    "        tpsa_list.append(CalcTPSA(m))\n",
    "\n",
    "    logP_list = np.asarray(logP_list).astype(float)\n",
    "    tpsa_list = np.asarray(tpsa_list).astype(float)\n",
    "\n",
    "    return smi_list, logP_list, tpsa_list\n",
    "\n",
    "def smiles_to_onehot(smi_list):\n",
    "    def smiles_to_vector(smiles, vocab, max_length):\n",
    "        while len(smiles)<max_length:\n",
    "            smiles +=\" \"\n",
    "        return [vocab.index(str(x)) for x in smiles]\n",
    "\n",
    "    vocab = np.load('./vocab.npy')\n",
    "    smi_total = []\n",
    "    for smi in smi_list:\n",
    "        smi_onehot = smiles_to_vector(smi, list(vocab), 120)\n",
    "        smi_total.append(smi_onehot)\n",
    "    return np.asarray(smi_total)"
   ]
  },
  {
   "cell_type": "code",
   "execution_count": 5,
   "metadata": {},
   "outputs": [],
   "source": [
    "# python smiles_cnn_logP.py 3 512 0.01 0.3 0.01\n",
    "num_layer = 3\n",
    "hidden_dim = 512\n",
    "init_lr = 0.01\n",
    "drop_rate = 0.3\n",
    "reg_scale = 0.01\n"
   ]
  },
  {
   "cell_type": "code",
   "execution_count": 6,
   "metadata": {},
   "outputs": [],
   "source": [
    "model_name = 'smiles_cnn_logP_' + str(num_layer) + '_' + str(hidden_dim) + '_' + str(init_lr) + '_' + str(drop_rate) + '_' + str(reg_scale)"
   ]
  },
  {
   "cell_type": "code",
   "execution_count": null,
   "metadata": {},
   "outputs": [],
   "source": [
    "smi_list, logP_total, tpsa_total = read_ZINC_smiles(50000)\n",
    "smi_total = smiles_to_onehot(smi_list)\n"
   ]
  },
  {
   "cell_type": "code",
   "execution_count": null,
   "metadata": {},
   "outputs": [],
   "source": []
  }
 ],
 "metadata": {
  "kernelspec": {
   "display_name": "Python 3",
   "language": "python",
   "name": "python3"
  },
  "language_info": {
   "codemirror_mode": {
    "name": "ipython",
    "version": 3
   },
   "file_extension": ".py",
   "mimetype": "text/x-python",
   "name": "python",
   "nbconvert_exporter": "python",
   "pygments_lexer": "ipython3",
   "version": "3.6.8"
  }
 },
 "nbformat": 4,
 "nbformat_minor": 2
}

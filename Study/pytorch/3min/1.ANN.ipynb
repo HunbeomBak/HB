{
 "cells": [
  {
   "cell_type": "code",
   "execution_count": 14,
   "metadata": {},
   "outputs": [
    {
     "name": "stderr",
     "output_type": "stream",
     "text": [
      "C:\\ProgramData\\Anaconda3\\envs\\pytorch\\lib\\importlib\\_bootstrap.py:219: RuntimeWarning: numpy.ufunc size changed, may indicate binary incompatibility. Expected 192 from C header, got 216 from PyObject\n",
      "  return f(*args, **kwds)\n",
      "C:\\ProgramData\\Anaconda3\\envs\\pytorch\\lib\\importlib\\_bootstrap.py:219: RuntimeWarning: numpy.ufunc size changed, may indicate binary incompatibility. Expected 192 from C header, got 216 from PyObject\n",
      "  return f(*args, **kwds)\n",
      "C:\\ProgramData\\Anaconda3\\envs\\pytorch\\lib\\importlib\\_bootstrap.py:219: RuntimeWarning: numpy.ufunc size changed, may indicate binary incompatibility. Expected 192 from C header, got 216 from PyObject\n",
      "  return f(*args, **kwds)\n",
      "C:\\ProgramData\\Anaconda3\\envs\\pytorch\\lib\\importlib\\_bootstrap.py:219: RuntimeWarning: numpy.ufunc size changed, may indicate binary incompatibility. Expected 192 from C header, got 216 from PyObject\n",
      "  return f(*args, **kwds)\n",
      "C:\\ProgramData\\Anaconda3\\envs\\pytorch\\lib\\importlib\\_bootstrap.py:219: RuntimeWarning: numpy.ufunc size changed, may indicate binary incompatibility. Expected 192 from C header, got 216 from PyObject\n",
      "  return f(*args, **kwds)\n"
     ]
    }
   ],
   "source": [
    "import torch\n",
    "import matplotlib.pyplot as plt\n",
    "import pickle\n",
    "import numpy as np\n",
    "from sklearn.datasets import make_blobs\n",
    "import torch.nn.functional as F"
   ]
  },
  {
   "cell_type": "markdown",
   "metadata": {},
   "source": [
    "## Tensor"
   ]
  },
  {
   "cell_type": "code",
   "execution_count": 11,
   "metadata": {},
   "outputs": [
    {
     "name": "stdout",
     "output_type": "stream",
     "text": [
      "tensor([[1, 2, 3],\n",
      "        [4, 5, 6],\n",
      "        [7, 8, 9]])\n"
     ]
    }
   ],
   "source": [
    "x = torch.tensor([[1,2,3],[4,5,6],[7,8,9]])\n",
    "print(x)"
   ]
  },
  {
   "cell_type": "code",
   "execution_count": 12,
   "metadata": {},
   "outputs": [
    {
     "name": "stdout",
     "output_type": "stream",
     "text": [
      "size torch.Size([3, 3])\n",
      "Shape: torch.Size([3, 3])\n",
      "랭크(차원) : 2\n"
     ]
    }
   ],
   "source": [
    "print(\"size\", x.size())\n",
    "print(\"Shape:\", x.shape)\n",
    "print(\"랭크(차원) :\" ,x.ndimension())"
   ]
  },
  {
   "cell_type": "markdown",
   "metadata": {},
   "source": [
    "### Unsqueeze\n",
    "x ([3,3]형태의 랭크2 텐서)의 첫번째 (0번째)자리에 1이라는 차원값을 추가해 [1,3,3] 모양의 랭크 3텐서로 변경"
   ]
  },
  {
   "cell_type": "code",
   "execution_count": 13,
   "metadata": {},
   "outputs": [
    {
     "name": "stdout",
     "output_type": "stream",
     "text": [
      "tensor([[[1, 2, 3],\n",
      "         [4, 5, 6],\n",
      "         [7, 8, 9]]])\n",
      "size torch.Size([1, 3, 3])\n",
      "Shape: torch.Size([1, 3, 3])\n",
      "랭크(차원) : 3\n"
     ]
    }
   ],
   "source": [
    "x = torch.unsqueeze(x,0)\n",
    "print(x)\n",
    "print(\"size\", x.size())\n",
    "print(\"Shape:\", x.shape)\n",
    "print(\"랭크(차원) :\" ,x.ndimension())"
   ]
  },
  {
   "cell_type": "markdown",
   "metadata": {},
   "source": [
    "### squeeze\n",
    "텐서의 랭크중 크기가 1인 랭크를 삭제"
   ]
  },
  {
   "cell_type": "code",
   "execution_count": 14,
   "metadata": {},
   "outputs": [
    {
     "name": "stdout",
     "output_type": "stream",
     "text": [
      "tensor([[1, 2, 3],\n",
      "        [4, 5, 6],\n",
      "        [7, 8, 9]])\n",
      "size torch.Size([3, 3])\n",
      "Shape: torch.Size([3, 3])\n",
      "랭크(차원) : 2\n"
     ]
    }
   ],
   "source": [
    "x = torch.squeeze(x)\n",
    "print(x)\n",
    "print(\"size\", x.size())\n",
    "print(\"Shape:\", x.shape)\n",
    "print(\"랭크(차원) :\" ,x.ndimension())"
   ]
  },
  {
   "cell_type": "markdown",
   "metadata": {},
   "source": [
    "### view\n",
    "직접 텐서의 모양 바꿀 수 있음"
   ]
  },
  {
   "cell_type": "code",
   "execution_count": 15,
   "metadata": {},
   "outputs": [
    {
     "name": "stdout",
     "output_type": "stream",
     "text": [
      "tensor([1, 2, 3, 4, 5, 6, 7, 8, 9])\n",
      "size torch.Size([9])\n",
      "Shape: torch.Size([9])\n",
      "랭크(차원) : 1\n"
     ]
    }
   ],
   "source": [
    "x = x.view(9)\n",
    "print(x)\n",
    "print(\"size\", x.size())\n",
    "print(\"Shape:\", x.shape)\n",
    "print(\"랭크(차원) :\" ,x.ndimension())"
   ]
  },
  {
   "cell_type": "markdown",
   "metadata": {},
   "source": [
    "원소의 수는 그대로 유지되야함\n",
    "\n",
    "[2,4]가 되도록하면 실패"
   ]
  },
  {
   "cell_type": "code",
   "execution_count": 16,
   "metadata": {},
   "outputs": [
    {
     "name": "stdout",
     "output_type": "stream",
     "text": [
      "shape '[2, 4]' is invalid for input of size 9\n"
     ]
    }
   ],
   "source": [
    "try:\n",
    "    x = x.view(2,4)\n",
    "except Exception as e:\n",
    "    print(e)"
   ]
  },
  {
   "cell_type": "markdown",
   "metadata": {},
   "source": [
    "## 텐서를 이용한 연산과 행렬곱\n",
    "\n",
    "행렬의 높이를 '행', 행렬의 너비를 '열'\n",
    "\n",
    "행렬곱 : \n",
    "    - A의 열수와 B의 행 수는 같아야함\n",
    "    - 행렬곱 A*B의 결과 행렬의 개수는 A와 같고, 열의 갯수는 B와 같음\n",
    "    \n",
    "    \n",
    "예:\n",
    "    - 행렬 w와 b는 정규분포에서 5 X 3, 5 X 3의 shape를 가진 텐서를 만듦\n",
    "    - x : 임의의로 집어 넣음 \n",
    "\n"
   ]
  },
  {
   "cell_type": "code",
   "execution_count": 22,
   "metadata": {},
   "outputs": [
    {
     "name": "stdout",
     "output_type": "stream",
     "text": [
      "w size: torch.Size([5, 3])\n",
      "x size: torch.Size([3, 2])\n",
      "w: tensor([[-0.2634, -1.3664, -0.5024],\n",
      "        [-0.7948,  2.6435, -0.5829],\n",
      "        [ 1.2369,  0.3499, -1.5676],\n",
      "        [ 0.2514,  0.2866,  0.7861],\n",
      "        [ 0.2435,  0.4215,  1.3294]])\n",
      "x: tensor([[1., 2.],\n",
      "        [3., 4.],\n",
      "        [5., 6.]])\n"
     ]
    }
   ],
   "source": [
    "w = torch.randn(5,3, dtype=torch.float)\n",
    "x = torch.tensor([[1.0,2.0], [3.0,4.0], [5.0,6.0]])\n",
    "print(\"w size:\", w.size())\n",
    "print(\"x size:\", x.size())\n",
    "print(\"w:\", w)\n",
    "print(\"x:\", x)"
   ]
  },
  {
   "cell_type": "code",
   "execution_count": 23,
   "metadata": {},
   "outputs": [
    {
     "name": "stdout",
     "output_type": "stream",
     "text": [
      "b: torch.Size([5, 2])\n",
      "b: tensor([[-0.9912,  2.5410],\n",
      "        [ 0.2969,  1.7376],\n",
      "        [ 1.5207,  2.0761],\n",
      "        [-1.8175, -0.2843],\n",
      "        [ 0.0835,  1.9002]])\n"
     ]
    }
   ],
   "source": [
    "b = torch.randn(5,2, dtype=torch.float)\n",
    "print(\"b:\", b.size())\n",
    "print(\"b:\", b)"
   ]
  },
  {
   "cell_type": "markdown",
   "metadata": {},
   "source": [
    "행렬곱"
   ]
  },
  {
   "cell_type": "code",
   "execution_count": 24,
   "metadata": {},
   "outputs": [
    {
     "name": "stdout",
     "output_type": "stream",
     "text": [
      "wx size: torch.Size([5, 2])\n",
      "wx: tensor([[-6.8749, -9.0072],\n",
      "        [ 4.2213,  5.4871],\n",
      "        [-5.5514, -5.5322],\n",
      "        [ 5.0417,  6.3658],\n",
      "        [ 8.1549, 10.1493]])\n"
     ]
    }
   ],
   "source": [
    "\n",
    "wx = torch.mm(w,x) # w의 행은 5, x의 열은 2, 즉 shape는 [5, 2]입니다.\n",
    "print(\"wx size:\", wx.size())\n",
    "print(\"wx:\", wx)"
   ]
  },
  {
   "cell_type": "markdown",
   "metadata": {},
   "source": [
    "행렬곱 + b"
   ]
  },
  {
   "cell_type": "code",
   "execution_count": 25,
   "metadata": {},
   "outputs": [
    {
     "name": "stdout",
     "output_type": "stream",
     "text": [
      "result size: torch.Size([5, 2])\n",
      "result: tensor([[-7.8661, -6.4662],\n",
      "        [ 4.5182,  7.2248],\n",
      "        [-4.0308, -3.4561],\n",
      "        [ 3.2242,  6.0814],\n",
      "        [ 8.2384, 12.0495]])\n"
     ]
    }
   ],
   "source": [
    "result = wx + b\t\n",
    "print(\"result size:\", result.size()) \n",
    "print(\"result:\", result)"
   ]
  },
  {
   "cell_type": "markdown",
   "metadata": {},
   "source": [
    "## Autogard (자동 기울기)\n",
    "\n",
    "수식의 기울기를 자동으로 계산 -> 경사하강법\n",
    "\n",
    "값이 1.0인 스칼라텐서를 정의하고, 수식을 w에 대해 미분하여 기울기를 계산해보자"
   ]
  },
  {
   "cell_type": "code",
   "execution_count": 35,
   "metadata": {},
   "outputs": [
    {
     "name": "stdout",
     "output_type": "stream",
     "text": [
      "I를 w로 미분한값 : 18.0\n"
     ]
    }
   ],
   "source": [
    "w = torch.tensor(1.0, requires_grad = True)\n",
    "\n",
    "a = w *3\n",
    "\n",
    "I = a**2\n",
    "\n",
    "I.backward()\n",
    "print(\"I를 w로 미분한값 : {}\".format(w.grad))"
   ]
  },
  {
   "cell_type": "markdown",
   "metadata": {},
   "source": [
    "### 이미지 노이즈 제거"
   ]
  },
  {
   "cell_type": "code",
   "execution_count": 8,
   "metadata": {},
   "outputs": [
    {
     "data": {
      "text/plain": [
       "<matplotlib.image.AxesImage at 0x2a1891b5160>"
      ]
     },
     "execution_count": 8,
     "metadata": {},
     "output_type": "execute_result"
    },
    {
     "data": {
      "image/png": "[encoded data removed]",
      "text/plain": [
       "<Figure size 432x288 with 1 Axes>"
      ]
     },
     "metadata": {
      "needs_background": "light"
     },
     "output_type": "display_data"
    }
   ],
   "source": [
    "broken_image =  torch.FloatTensor( pickle.load(open('./broken_image_t.p', 'rb'),encoding='latin1' ) )\n",
    "\n",
    "plt.imshow(broken_image.view(100,100))"
   ]
  },
  {
   "cell_type": "code",
   "execution_count": 9,
   "metadata": {},
   "outputs": [],
   "source": [
    "def weird_function(x, n_iter=5):\n",
    "    h = x    \n",
    "    filt = torch.tensor([-1./3, 1./3, -1./3])\n",
    "    for i in range(n_iter):\n",
    "        zero_tensor = torch.tensor([1.0*0])\n",
    "        h_l = torch.cat( (zero_tensor, h[:-1]), 0)\n",
    "        h_r = torch.cat((h[1:], zero_tensor), 0 )\n",
    "        h = filt[0] * h + filt[2] * h_l + filt[1] * h_r\n",
    "        if i % 2 == 0:\n",
    "            h = torch.cat( (h[h.shape[0]//2:],h[:h.shape[0]//2]), 0  )\n",
    "    return h\n",
    "\n",
    "def distance_loss(hypothesis, broken_image):    \n",
    "    return torch.dist(hypothesis, broken_image)"
   ]
  },
  {
   "cell_type": "code",
   "execution_count": 11,
   "metadata": {},
   "outputs": [],
   "source": [
    "random_tensor = torch.randn(10000, dtype = torch.float)\n",
    "\n",
    "lr = 0.8"
   ]
  },
  {
   "cell_type": "code",
   "execution_count": 12,
   "metadata": {},
   "outputs": [
    {
     "name": "stdout",
     "output_type": "stream",
     "text": [
      "Loss at 0 = 12.3062105178833\n",
      "Loss at 1000 = 1.1280852556228638\n",
      "Loss at 2000 = 0.5467530488967896\n",
      "Loss at 3000 = 0.3785193860530853\n",
      "Loss at 4000 = 0.29904207587242126\n",
      "Loss at 5000 = 0.25017663836479187\n",
      "Loss at 6000 = 0.21507805585861206\n",
      "Loss at 7000 = 0.1873287409543991\n",
      "Loss at 8000 = 0.16394460201263428\n",
      "Loss at 9000 = 0.14332996308803558\n",
      "Loss at 10000 = 0.12455783784389496\n",
      "Loss at 11000 = 0.10705842822790146\n",
      "Loss at 12000 = 0.09046803414821625\n",
      "Loss at 13000 = 0.07454732060432434\n",
      "Loss at 14000 = 0.059135712683200836\n",
      "Loss at 15000 = 0.044126007705926895\n",
      "Loss at 16000 = 0.029448295012116432\n",
      "Loss at 17000 = 0.02115311659872532\n",
      "Loss at 18000 = 0.021165482699871063\n",
      "Loss at 19000 = 0.02116730436682701\n"
     ]
    }
   ],
   "source": [
    "for i in range(0,20000):\n",
    "    random_tensor.requires_grad_(True)\n",
    "    hypothesis = weird_function(random_tensor)\n",
    "    loss = distance_loss(hypothesis, broken_image)\n",
    "    loss.backward()\n",
    "    with torch.no_grad():\n",
    "        random_tensor = random_tensor - lr*random_tensor.grad\n",
    "    if i % 1000 == 0:\n",
    "        print('Loss at {} = {}'.format(i, loss.item()))"
   ]
  },
  {
   "cell_type": "code",
   "execution_count": 13,
   "metadata": {},
   "outputs": [
    {
     "data": {
      "text/plain": [
       "<matplotlib.image.AxesImage at 0x2a18990b128>"
      ]
     },
     "execution_count": 13,
     "metadata": {},
     "output_type": "execute_result"
    },
    {
     "data": {
      "image/png": "[encoded data removed]",
      "text/plain": [
       "<Figure size 432x288 with 1 Axes>"
      ]
     },
     "metadata": {
      "needs_background": "light"
     },
     "output_type": "display_data"
    }
   ],
   "source": [
    "plt.imshow(random_tensor.view(100,100).data)\n"
   ]
  },
  {
   "cell_type": "markdown",
   "metadata": {},
   "source": [
    "## ANN"
   ]
  },
  {
   "cell_type": "code",
   "execution_count": 15,
   "metadata": {},
   "outputs": [],
   "source": [
    "\n",
    "n_dim = 2\n",
    "x_train, y_train = make_blobs(n_samples=80, n_features=n_dim, centers=[[1,1],[-1,-1],[1,-1],[-1,1]], shuffle=True, cluster_std=0.3)\n",
    "x_test, y_test = make_blobs(n_samples=20, n_features=n_dim, centers=[[1,1],[-1,-1],[1,-1],[-1,1]], shuffle=True, cluster_std=0.3)"
   ]
  },
  {
   "cell_type": "code",
   "execution_count": 17,
   "metadata": {},
   "outputs": [],
   "source": [
    "\n",
    "def label_map(y_, from_, to_):\n",
    "    y = np.copy(y_)\n",
    "    for f in from_:\n",
    "        y[y_ == f] = to_\n",
    "    return y\n",
    "\n",
    "y_train = label_map(y_train, [0, 1], 0)\n",
    "y_train = label_map(y_train, [2, 3], 1)\n",
    "y_test = label_map(y_test, [0, 1], 0)\n",
    "y_test = label_map(y_test, [2, 3], 1)"
   ]
  },
  {
   "cell_type": "code",
   "execution_count": 18,
   "metadata": {},
   "outputs": [
    {
     "data": {
      "image/png": "[encoded data removed]",
      "text/plain": [
       "<Figure size 432x288 with 1 Axes>"
      ]
     },
     "metadata": {
      "needs_background": "light"
     },
     "output_type": "display_data"
    }
   ],
   "source": [
    "def vis_data(x,y = None, c = 'r'):\n",
    "    if y is None:\n",
    "        y = [None] * len(x)\n",
    "    for x_, y_ in zip(x,y):\n",
    "        if y_ is None:\n",
    "            plt.plot(x_[0], x_[1], '*',markerfacecolor='none', markeredgecolor=c)\n",
    "        else:\n",
    "            plt.plot(x_[0], x_[1], c+'o' if y_ == 0 else c+'+')\n",
    "\n",
    "plt.figure()\n",
    "vis_data(x_train, y_train, c='r')\n",
    "plt.show()"
   ]
  },
  {
   "cell_type": "code",
   "execution_count": 19,
   "metadata": {},
   "outputs": [
    {
     "name": "stdout",
     "output_type": "stream",
     "text": [
      "torch.Size([80, 2])\n"
     ]
    }
   ],
   "source": [
    "x_train = torch.FloatTensor(x_train)\n",
    "print(x_train.shape)\n",
    "x_test = torch.FloatTensor(x_test)\n",
    "y_train = torch.FloatTensor(y_train)\n",
    "y_test = torch.FloatTensor(y_test)"
   ]
  },
  {
   "cell_type": "code",
   "execution_count": 22,
   "metadata": {},
   "outputs": [],
   "source": [
    "class NeuralNet(torch.nn.Module):\n",
    "        def __init__(self, input_size, hidden_size):\n",
    "            super(NeuralNet, self).__init__()\n",
    "            self.input_size = input_size\n",
    "            self.hidden_size  = hidden_size\n",
    "            self.linear_1 = torch.nn.Linear(self.input_size, self.hidden_size)\n",
    "            self.relu = torch.nn.ReLU()\n",
    "            self.linear_2 = torch.nn.Linear(self.hidden_size, 1)\n",
    "            self.sigmoid = torch.nn.Sigmoid()\n",
    "            \n",
    "        def forward(self, input_tensor):\n",
    "            linear1 = self.linear_1(input_tensor)\n",
    "            relu = self.relu(linear1)\n",
    "            linear2 = self.linear_2(relu)\n",
    "            output = self.sigmoid(linear2)\n",
    "            return output"
   ]
  },
  {
   "cell_type": "code",
   "execution_count": 23,
   "metadata": {},
   "outputs": [],
   "source": [
    "model = NeuralNet(2, 5)\n",
    "learning_rate = 0.03\n",
    "criterion = torch.nn.BCELoss()\n",
    "epochs = 2000\n",
    "optimizer = torch.optim.SGD(model.parameters(), lr = learning_rate)"
   ]
  },
  {
   "cell_type": "code",
   "execution_count": 24,
   "metadata": {},
   "outputs": [
    {
     "name": "stdout",
     "output_type": "stream",
     "text": [
      "Before Training, test loss is 0.716407835483551\n"
     ]
    }
   ],
   "source": [
    "model.eval()\n",
    "test_loss_before = criterion(model(x_test).squeeze(), y_test)\n",
    "print('Before Training, test loss is {}'.format(test_loss_before.item()))"
   ]
  },
  {
   "cell_type": "code",
   "execution_count": 25,
   "metadata": {},
   "outputs": [
    {
     "name": "stdout",
     "output_type": "stream",
     "text": [
      "Train loss at 0 is 0.7212819457054138\n",
      "Train loss at 100 is 0.6397565603256226\n",
      "Train loss at 200 is 0.5585909485816956\n",
      "Train loss at 300 is 0.48787015676498413\n",
      "Train loss at 400 is 0.43800443410873413\n",
      "Train loss at 500 is 0.39608970284461975\n",
      "Train loss at 600 is 0.34887629747390747\n",
      "Train loss at 700 is 0.29310551285743713\n",
      "Train loss at 800 is 0.2365502417087555\n",
      "Train loss at 900 is 0.18653300404548645\n",
      "Train loss at 1000 is 0.14623959362506866\n",
      "Train loss at 1100 is 0.11611511558294296\n",
      "Train loss at 1200 is 0.09397302567958832\n",
      "Train loss at 1300 is 0.07732221484184265\n",
      "Train loss at 1400 is 0.0646342858672142\n",
      "Train loss at 1500 is 0.05490458011627197\n",
      "Train loss at 1600 is 0.047357574105262756\n",
      "Train loss at 1700 is 0.04145807772874832\n",
      "Train loss at 1800 is 0.03678387403488159\n",
      "Train loss at 1900 is 0.0329970046877861\n"
     ]
    }
   ],
   "source": [
    "for epoch in range(epochs):\n",
    "    model.train()\n",
    "    optimizer.zero_grad()\n",
    "    train_output = model(x_train)\n",
    "    train_loss = criterion(train_output.squeeze(), y_train)\n",
    "    if epoch % 100 == 0:\n",
    "        print('Train loss at {} is {}'.format(epoch, train_loss.item()))\n",
    "    train_loss.backward()\n",
    "    optimizer.step()"
   ]
  },
  {
   "cell_type": "code",
   "execution_count": 26,
   "metadata": {},
   "outputs": [
    {
     "name": "stdout",
     "output_type": "stream",
     "text": [
      "After Training, test loss is 0.05257025361061096\n"
     ]
    }
   ],
   "source": [
    "model.eval()\n",
    "test_loss = criterion(model(x_test).squeeze(), y_test) \n",
    "print('After Training, test loss is {}'.format(test_loss.item()))"
   ]
  },
  {
   "cell_type": "code",
   "execution_count": 27,
   "metadata": {},
   "outputs": [
    {
     "name": "stdout",
     "output_type": "stream",
     "text": [
      "state_dict format of the model: OrderedDict([('linear_1.weight', tensor([[ 1.6826, -0.9408],\n",
      "        [-1.1286, -0.3767],\n",
      "        [ 0.9501,  0.9822],\n",
      "        [-1.4324,  1.9764],\n",
      "        [ 1.4526,  1.5141]])), ('linear_1.bias', tensor([ 0.3925,  0.8584, -0.3116, -0.1551, -0.2702])), ('linear_2.weight', tensor([[ 1.8964, -1.3411, -1.1908,  2.3678, -2.0265]])), ('linear_2.bias', tensor([-0.7650]))])\n"
     ]
    }
   ],
   "source": [
    "torch.save(model.state_dict(), './model.pt')\n",
    "print('state_dict format of the model: {}'.format(model.state_dict()))"
   ]
  },
  {
   "cell_type": "code",
   "execution_count": 28,
   "metadata": {},
   "outputs": [
    {
     "name": "stdout",
     "output_type": "stream",
     "text": [
      "벡터 [-1, 1]이 레이블 1을 가질 확률은 0.9916689395904541\n"
     ]
    }
   ],
   "source": [
    "new_model = NeuralNet(2, 5)\n",
    "new_model.load_state_dict(torch.load('./model.pt'))\n",
    "new_model.eval()\n",
    "print('벡터 [-1, 1]이 레이블 1을 가질 확률은 {}'.format(new_model(torch.FloatTensor([-1,1])).item()))"
   ]
  },
  {
   "cell_type": "code",
   "execution_count": null,
   "metadata": {},
   "outputs": [],
   "source": []
  }
 ],
 "metadata": {
  "kernelspec": {
   "display_name": "Python 3",
   "language": "python",
   "name": "python3"
  },
  "language_info": {
   "codemirror_mode": {
    "name": "ipython",
    "version": 3
   },
   "file_extension": ".py",
   "mimetype": "text/x-python",
   "name": "python",
   "nbconvert_exporter": "python",
   "pygments_lexer": "ipython3",
   "version": "3.6.9"
  }
 },
 "nbformat": 4,
 "nbformat_minor": 2
}

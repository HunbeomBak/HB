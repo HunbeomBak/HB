{
 "cells": [
  {
   "cell_type": "code",
   "execution_count": 1,
   "metadata": {},
   "outputs": [],
   "source": [
    "import numpy as np\n",
    "import tensorflow as tf\n",
    "import matplotlib.pyplot as plt\n",
    "plt.switch_backend('agg')\n",
    "\n",
    "#rdkit\n",
    "from rdkit import Chem, DataStructs\n",
    "from rdkit.Chem import AllChem\n",
    "from rdkit.Chem.Crippen import MolLogP\n",
    "from rdkit.Chem.rdMolDescriptors import CalcTPSA"
   ]
  },
  {
   "cell_type": "markdown",
   "metadata": {},
   "source": [
    "## 데이터 불러오기\n",
    "\n",
    "X : fingerprint, Y : logP"
   ]
  },
  {
   "cell_type": "code",
   "execution_count": 3,
   "metadata": {},
   "outputs": [],
   "source": [
    "def read_data(filename):\n",
    "    f = open(filename + '.smiles', 'r')\n",
    "    contents = f.readlines()\n",
    "\n",
    "    smiles = []\n",
    "    labels = []\n",
    "    for i in contents:\n",
    "        smi = i.split()[0]\n",
    "        label = int(i.split()[2].strip())\n",
    "\n",
    "        smiles.append(smi)\n",
    "        labels.append(label)\n",
    "\n",
    "    num_total = len(smiles)\n",
    "    rand_int = np.random.randint(num_total, size=(num_total,))\n",
    "    \n",
    "    return np.asarray(smiles)[rand_int], np.asarray(labels)[rand_int]\n",
    "\n",
    "def read_ZINC(num_mol):\n",
    "    f = open('./data/ZINC.smiles', 'r')\n",
    "    contents = f.readlines()\n",
    "\n",
    "    smi = []\n",
    "    fps = []\n",
    "    logP = []\n",
    "    tpsa = []\n",
    "    for i in range(num_mol):\n",
    "        smi = contents[i].strip()\n",
    "        m = Chem.MolFromSmiles(smi)\n",
    "        fp = AllChem.GetMorganFingerprintAsBitVect(m,2)\n",
    "        arr = np.zeros((1,))\n",
    "        DataStructs.ConvertToNumpyArray(fp,arr)\n",
    "        fps.append(arr)\n",
    "        logP.append(MolLogP(m))\n",
    "        tpsa.append(CalcTPSA(m))\n",
    "\n",
    "    fps = np.asarray(fps)\n",
    "    logP = np.asarray(logP)\n",
    "    tpsa = np.asarray(tpsa)\n",
    "\n",
    "    return fps, logP, tpsa\n"
   ]
  },
  {
   "cell_type": "code",
   "execution_count": 4,
   "metadata": {},
   "outputs": [],
   "source": [
    "fps_total, logP_total, tpsa_total = read_ZINC(60000)"
   ]
  },
  {
   "cell_type": "code",
   "execution_count": 5,
   "metadata": {},
   "outputs": [],
   "source": [
    "num_train = 40000\n",
    "num_validation = 10000\n",
    "num_test = 10000\n",
    "\n",
    "#train set\n",
    "fps_train = fps_total[0:num_train]\n",
    "logP_train = logP_total[0:num_train]\n",
    "\n",
    "#val_set\n",
    "fps_validation = fps_total[num_train:(num_train+num_validation)]\n",
    "logP_validation = logP_total[num_train:(num_train+num_validation)]\n",
    "\n",
    "#test_set\n",
    "fps_test = fps_total[(num_train+num_validation):]\n",
    "logP_test = logP_total[(num_train+num_validation):]"
   ]
  },
  {
   "cell_type": "markdown",
   "metadata": {},
   "source": [
    "## 신경망 설계\n",
    "\n",
    "### Place holder"
   ]
  },
  {
   "cell_type": "code",
   "execution_count": 6,
   "metadata": {},
   "outputs": [],
   "source": [
    "X = tf.placeholder(tf.float64, shape=[None, 2048])\n",
    "Y = tf.placeholder(tf.float64, shape=[None, ])"
   ]
  },
  {
   "cell_type": "markdown",
   "metadata": {},
   "source": [
    "### layer"
   ]
  },
  {
   "cell_type": "code",
   "execution_count": 8,
   "metadata": {},
   "outputs": [],
   "source": [
    "h1 = tf.layers.dense(X, units=512, use_bias=True, activation=tf.nn.relu)\n",
    "h2 = tf.layers.dense(h1, units=512, use_bias=True, activation=tf.nn.tanh)\n",
    "Y_pred = tf.layers.dense(h2, units=1, use_bias=True)\n",
    "Y_pred = tf.layers.flatten(Y_pred)"
   ]
  },
  {
   "cell_type": "markdown",
   "metadata": {},
   "source": [
    "### 오차함수"
   ]
  },
  {
   "cell_type": "code",
   "execution_count": 9,
   "metadata": {},
   "outputs": [],
   "source": [
    "loss = tf.reduce_mean( (Y_pred - Y)**2 ) "
   ]
  },
  {
   "cell_type": "markdown",
   "metadata": {},
   "source": [
    "### 최적화"
   ]
  },
  {
   "cell_type": "code",
   "execution_count": 10,
   "metadata": {},
   "outputs": [],
   "source": [
    "lr = tf.Variable(0.0, trainable = False)  # learning rate\n",
    "opt = tf.train.AdamOptimizer(lr).minimize(loss)"
   ]
  },
  {
   "cell_type": "markdown",
   "metadata": {},
   "source": [
    "### Session"
   ]
  },
  {
   "cell_type": "code",
   "execution_count": 11,
   "metadata": {},
   "outputs": [],
   "source": [
    "sess = tf.Session()\n",
    "init = tf.global_variables_initializer()\n",
    "sess.run(init)"
   ]
  },
  {
   "cell_type": "markdown",
   "metadata": {},
   "source": [
    "## Train"
   ]
  },
  {
   "cell_type": "code",
   "execution_count": 13,
   "metadata": {},
   "outputs": [],
   "source": [
    "#hyper parameter\n",
    "batch_size = 100\n",
    "epoch_size = 100\n",
    "decay_rate = 0.95\n",
    "batch_train = int(num_train/batch_size)\n",
    "batch_validation = int(num_validation/batch_size)\n",
    "batch_test = int(num_test/batch_size)\n",
    "\n",
    "init_lr = 0.001"
   ]
  },
  {
   "cell_type": "code",
   "execution_count": 14,
   "metadata": {},
   "outputs": [
    {
     "name": "stdout",
     "output_type": "stream",
     "text": [
      "MSE : 1.0551701340029607 RMSE : 1.3230715316649728 Std : 1.3230134625070207 \t Training, \t Epoch : 0\n",
      "MSE : 1.0694329129562161 RMSE : 1.3441328432604895 Std : 1.3434063415863196 \t Validation, \t Epoch : 0\n",
      "MSE : 1.0527708030642302 RMSE : 1.3207739248721135 Std : 1.3207697589518153 \t Training, \t Epoch : 1\n",
      "MSE : 1.0678516890642225 RMSE : 1.3442886082712964 Std : 1.3441896814852887 \t Validation, \t Epoch : 1\n",
      "MSE : 1.0510167228699956 RMSE : 1.318758172927987 Std : 1.3187578847871868 \t Training, \t Epoch : 2\n",
      "MSE : 1.0664514302596961 RMSE : 1.3424294991112946 Std : 1.3423508917052465 \t Validation, \t Epoch : 2\n",
      "MSE : 1.0502378706328404 RMSE : 1.317897818719092 Std : 1.3178976779404932 \t Training, \t Epoch : 3\n",
      "MSE : 1.0653297739270866 RMSE : 1.3411527584138097 Std : 1.3411423955778659 \t Validation, \t Epoch : 3\n",
      "MSE : 1.0499523201492833 RMSE : 1.3176253725191625 Std : 1.31762509688643 \t Training, \t Epoch : 4\n",
      "MSE : 1.0630041686016096 RMSE : 1.3401893769497257 Std : 1.3398869931083324 \t Validation, \t Epoch : 4\n",
      "MSE : 1.0502497720998767 RMSE : 1.3181304250379333 Std : 1.3181299068301195 \t Training, \t Epoch : 5\n",
      "MSE : 1.0612837373805644 RMSE : 1.3398383252062365 Std : 1.3388173694657604 \t Validation, \t Epoch : 5\n",
      "MSE : 1.0501201496221009 RMSE : 1.3182402054227293 Std : 1.3182396485313104 \t Training, \t Epoch : 6\n",
      "MSE : 1.0617709289784505 RMSE : 1.340407780115426 Std : 1.3395239553670588 \t Validation, \t Epoch : 6\n",
      "MSE : 1.0507430389169192 RMSE : 1.3187997440461863 Std : 1.3187993376567244 \t Training, \t Epoch : 7\n",
      "MSE : 1.0619074579212033 RMSE : 1.3388950681659566 Std : 1.3387031730524654 \t Validation, \t Epoch : 7\n",
      "MSE : 1.0507628202788897 RMSE : 1.3188952566424648 Std : 1.3188949997183999 \t Training, \t Epoch : 8\n",
      "MSE : 1.0648693634089323 RMSE : 1.3401122814351794 Std : 1.3399182650627346 \t Validation, \t Epoch : 8\n",
      "MSE : 1.0509905550779532 RMSE : 1.319025093281615 Std : 1.3190249352428005 \t Training, \t Epoch : 9\n",
      "MSE : 1.0682280412634504 RMSE : 1.3427522649489507 Std : 1.3417708665698334 \t Validation, \t Epoch : 9\n",
      "MSE : 1.0514742252048095 RMSE : 1.3194017525784276 Std : 1.3194011994625852 \t Training, \t Epoch : 10\n",
      "MSE : 1.0651722990967145 RMSE : 1.340742099684394 Std : 1.340553116273343 \t Validation, \t Epoch : 10\n",
      "MSE : 1.0517768512833676 RMSE : 1.3195660967099252 Std : 1.319564012013421 \t Training, \t Epoch : 11\n",
      "MSE : 1.0643473708223854 RMSE : 1.3403959042371258 Std : 1.340343887571617 \t Validation, \t Epoch : 11\n",
      "MSE : 1.051082685775571 RMSE : 1.3192868199211054 Std : 1.3192863759048938 \t Training, \t Epoch : 12\n",
      "MSE : 1.0712412495580963 RMSE : 1.3454109764341133 Std : 1.3435530893960694 \t Validation, \t Epoch : 12\n",
      "MSE : 1.0508049538976245 RMSE : 1.3189457520924246 Std : 1.3189457009838577 \t Training, \t Epoch : 13\n",
      "MSE : 1.0769867991514974 RMSE : 1.3501314264170523 Std : 1.3453631015187189 \t Validation, \t Epoch : 13\n",
      "MSE : 1.0508866316353607 RMSE : 1.3190299592612922 Std : 1.3190299271109618 \t Training, \t Epoch : 14\n",
      "MSE : 1.0806317721170562 RMSE : 1.3530307386235745 Std : 1.346019509410009 \t Validation, \t Epoch : 14\n",
      "MSE : 1.051328284597807 RMSE : 1.3192528913097097 Std : 1.3192527687408724 \t Training, \t Epoch : 15\n",
      "MSE : 1.0788026455377213 RMSE : 1.3513006533728904 Std : 1.345361330135476 \t Validation, \t Epoch : 15\n",
      "MSE : 1.0512219986503197 RMSE : 1.3191063268384529 Std : 1.3191058503089221 \t Training, \t Epoch : 16\n",
      "MSE : 1.0746113057899334 RMSE : 1.3479299072354793 Std : 1.34479097348467 \t Validation, \t Epoch : 16\n",
      "MSE : 1.050949492648313 RMSE : 1.3190330071048633 Std : 1.3190323446216516 \t Training, \t Epoch : 17\n",
      "MSE : 1.0717054516046196 RMSE : 1.346142942325218 Std : 1.3448650300648113 \t Validation, \t Epoch : 17\n",
      "MSE : 1.0509819378480876 RMSE : 1.319060626988649 Std : 1.3190599881612106 \t Training, \t Epoch : 18\n",
      "MSE : 1.0688617271289347 RMSE : 1.3444877321199797 Std : 1.3442735372945793 \t Validation, \t Epoch : 18\n",
      "MSE : 1.0508676243459514 RMSE : 1.3189225079663127 Std : 1.318921978705145 \t Training, \t Epoch : 19\n",
      "MSE : 1.0672213358445788 RMSE : 1.3437942593748629 Std : 1.3437939865740507 \t Validation, \t Epoch : 19\n",
      "MSE : 1.0507212252179743 RMSE : 1.3187356228452312 Std : 1.3187353701271043 \t Training, \t Epoch : 20\n",
      "MSE : 1.0666769508844505 RMSE : 1.343686851487478 Std : 1.3436789906487374 \t Validation, \t Epoch : 20\n",
      "MSE : 1.0507256036780401 RMSE : 1.3186815026292855 Std : 1.3186813728472384 \t Training, \t Epoch : 21\n",
      "MSE : 1.066818194999561 RMSE : 1.3436661696132803 Std : 1.3436600277869233 \t Validation, \t Epoch : 21\n",
      "MSE : 1.0506148577572934 RMSE : 1.3185364204027943 Std : 1.3185363138932376 \t Training, \t Epoch : 22\n",
      "MSE : 1.0666962085455571 RMSE : 1.3433580026505172 Std : 1.3433546536489802 \t Validation, \t Epoch : 22\n",
      "MSE : 1.0507295384859112 RMSE : 1.3186062677576238 Std : 1.3186062013143243 \t Training, \t Epoch : 23\n",
      "MSE : 1.0666965582686854 RMSE : 1.3427546971179116 Std : 1.3427335595155445 \t Validation, \t Epoch : 23\n",
      "MSE : 1.0508078262219978 RMSE : 1.3187288985089907 Std : 1.318728876715779 \t Training, \t Epoch : 24\n",
      "MSE : 1.0674102013000502 RMSE : 1.3427631773593476 Std : 1.3424795010633914 \t Validation, \t Epoch : 24\n",
      "MSE : 1.050831472644226 RMSE : 1.3187987210813623 Std : 1.3187987140294866 \t Training, \t Epoch : 25\n",
      "MSE : 1.0682714591439966 RMSE : 1.343066353563256 Std : 1.342343784877348 \t Validation, \t Epoch : 25\n",
      "MSE : 1.0506953134654222 RMSE : 1.318674030138843 Std : 1.3186740089758313 \t Training, \t Epoch : 26\n",
      "MSE : 1.0686854380586703 RMSE : 1.3433977412524976 Std : 1.3425041548160117 \t Validation, \t Epoch : 26\n",
      "MSE : 1.0506491033750678 RMSE : 1.3187356165576323 Std : 1.3187355645443188 \t Training, \t Epoch : 27\n",
      "MSE : 1.0685197178527204 RMSE : 1.3433178852373442 Std : 1.3424570102362223 \t Validation, \t Epoch : 27\n",
      "MSE : 1.050456572857907 RMSE : 1.3186386420315268 Std : 1.3186385770891678 \t Training, \t Epoch : 28\n",
      "MSE : 1.0682282850095355 RMSE : 1.3432606306771833 Std : 1.3425768098147928 \t Validation, \t Epoch : 28\n",
      "MSE : 1.0504478093381695 RMSE : 1.318620629835747 Std : 1.3186205614110669 \t Training, \t Epoch : 29\n",
      "MSE : 1.0678750392473277 RMSE : 1.342930123541672 Std : 1.3423460346343707 \t Validation, \t Epoch : 29\n",
      "MSE : 1.0504526104294833 RMSE : 1.3186051940634886 Std : 1.3186051612238714 \t Training, \t Epoch : 30\n",
      "MSE : 1.0680805417027996 RMSE : 1.343033014133269 Std : 1.3424055648211786 \t Validation, \t Epoch : 30\n",
      "MSE : 1.050478446420627 RMSE : 1.3185252080264243 Std : 1.318525197343764 \t Training, \t Epoch : 31\n",
      "MSE : 1.0686862125962806 RMSE : 1.3434115037836427 Std : 1.3425853101841767 \t Validation, \t Epoch : 31\n",
      "MSE : 1.0504896274659248 RMSE : 1.3184644337890965 Std : 1.3184644335272673 \t Training, \t Epoch : 32\n",
      "MSE : 1.0695479085182749 RMSE : 1.3439281390375368 Std : 1.3427707392325472 \t Validation, \t Epoch : 32\n",
      "MSE : 1.0504430002864373 RMSE : 1.318395072725156 Std : 1.3183950694217093 \t Training, \t Epoch : 33\n",
      "MSE : 1.0706372188419615 RMSE : 1.3447101332128812 Std : 1.3431037340334098 \t Validation, \t Epoch : 33\n",
      "MSE : 1.050417253092767 RMSE : 1.318371391371421 Std : 1.3183713797866365 \t Training, \t Epoch : 34\n",
      "MSE : 1.0715437461675275 RMSE : 1.345326379387799 Std : 1.343252465988754 \t Validation, \t Epoch : 34\n",
      "MSE : 1.050341710362909 RMSE : 1.3183126565391245 Std : 1.3183126435748234 \t Training, \t Epoch : 35\n",
      "MSE : 1.0721287026496233 RMSE : 1.3457556028938669 Std : 1.343336750785841 \t Validation, \t Epoch : 35\n",
      "MSE : 1.0503249462127278 RMSE : 1.3183232151763817 Std : 1.3183232059261945 \t Training, \t Epoch : 36\n",
      "MSE : 1.0722828743778012 RMSE : 1.34581257211212 Std : 1.3432416836895291 \t Validation, \t Epoch : 36\n",
      "MSE : 1.0503268610932683 RMSE : 1.3183010901376155 Std : 1.3183010884751794 \t Training, \t Epoch : 37\n",
      "MSE : 1.0720131691288566 RMSE : 1.3455632152497756 Std : 1.3430901162430477 \t Validation, \t Epoch : 37\n",
      "MSE : 1.050336973019064 RMSE : 1.3183245809970148 Std : 1.3183245809544948 \t Training, \t Epoch : 38\n",
      "MSE : 1.0714345702610317 RMSE : 1.3450700869265937 Std : 1.3428329988404109 \t Validation, \t Epoch : 38\n",
      "MSE : 1.0503244027450862 RMSE : 1.3182903937932358 Std : 1.3182903917702824 \t Training, \t Epoch : 39\n",
      "MSE : 1.0709272544331379 RMSE : 1.344651890100078 Std : 1.342665247397167 \t Validation, \t Epoch : 39\n",
      "MSE : 1.0503262211156168 RMSE : 1.3183116502187657 Std : 1.3183116480878445 \t Training, \t Epoch : 40\n"
     ]
    },
    {
     "name": "stdout",
     "output_type": "stream",
     "text": [
      "MSE : 1.070595424482622 RMSE : 1.3443506387219393 Std : 1.3424973509256792 \t Validation, \t Epoch : 40\n",
      "MSE : 1.0503252255985918 RMSE : 1.318300260148268 Std : 1.3183002597410889 \t Training, \t Epoch : 41\n",
      "MSE : 1.0705502990379006 RMSE : 1.3442960237309654 Std : 1.3424355155182954 \t Validation, \t Epoch : 41\n",
      "MSE : 1.0503561435154398 RMSE : 1.3183291654112892 Std : 1.3183291650901834 \t Training, \t Epoch : 42\n",
      "MSE : 1.070733575879143 RMSE : 1.3444401374561579 Std : 1.3424643972620267 \t Validation, \t Epoch : 42\n",
      "MSE : 1.050324716156808 RMSE : 1.318310598838994 Std : 1.3183105958536994 \t Training, \t Epoch : 43\n",
      "MSE : 1.0710342099917323 RMSE : 1.3446717352425206 Std : 1.342533455366603 \t Validation, \t Epoch : 43\n",
      "MSE : 1.0503571558414753 RMSE : 1.318346566282129 Std : 1.3183465621179093 \t Training, \t Epoch : 44\n",
      "MSE : 1.0711687753535881 RMSE : 1.3447482173526015 Std : 1.3425015130330549 \t Validation, \t Epoch : 44\n",
      "MSE : 1.0503025889494613 RMSE : 1.3183108354043316 Std : 1.3183108329317723 \t Training, \t Epoch : 45\n",
      "MSE : 1.0711666692004436 RMSE : 1.3447324588275877 Std : 1.3424881572651572 \t Validation, \t Epoch : 45\n",
      "MSE : 1.0503223294812238 RMSE : 1.3183378811383184 Std : 1.3183378807199133 \t Training, \t Epoch : 46\n",
      "MSE : 1.070939665976236 RMSE : 1.344528255050636 Std : 1.3423779142514212 \t Validation, \t Epoch : 46\n",
      "MSE : 1.050276430304236 RMSE : 1.3182953146188667 Std : 1.3182953145775471 \t Training, \t Epoch : 47\n",
      "MSE : 1.070606932107168 RMSE : 1.3442386114634644 Std : 1.3422510165007944 \t Validation, \t Epoch : 47\n",
      "MSE : 1.0502960997525133 RMSE : 1.3183327378369687 Std : 1.3183327371949702 \t Training, \t Epoch : 48\n",
      "MSE : 1.0702462135435105 RMSE : 1.3439432380976013 Std : 1.3421241427577533 \t Validation, \t Epoch : 48\n",
      "MSE : 1.050241285019465 RMSE : 1.3182880025257488 Std : 1.3182880010043168 \t Training, \t Epoch : 49\n",
      "MSE : 1.0698938603184722 RMSE : 1.3436450933248263 Std : 1.3419811304899734 \t Validation, \t Epoch : 49\n",
      "MSE : 1.0502685707057708 RMSE : 1.3183244211388123 Std : 1.318324419255525 \t Training, \t Epoch : 50\n",
      "MSE : 1.0696502284795757 RMSE : 1.3434417734337476 Std : 1.3419086305800494 \t Validation, \t Epoch : 50\n",
      "MSE : 1.0502449600791572 RMSE : 1.3183055598157305 Std : 1.3183055580995289 \t Training, \t Epoch : 51\n",
      "MSE : 1.069414373123141 RMSE : 1.3432402155794783 Std : 1.341816180102528 \t Validation, \t Epoch : 51\n",
      "MSE : 1.0502583439118178 RMSE : 1.318328715422458 Std : 1.3183287135709734 \t Training, \t Epoch : 52\n",
      "MSE : 1.0692490226338698 RMSE : 1.3431145176032648 Std : 1.3417780181413712 \t Validation, \t Epoch : 52\n",
      "MSE : 1.0502404339191507 RMSE : 1.3183083089292709 Std : 1.3183083076480635 \t Training, \t Epoch : 53\n",
      "MSE : 1.0690874992092225 RMSE : 1.3429818535694853 Std : 1.3417204317219273 \t Validation, \t Epoch : 53\n",
      "MSE : 1.0502591117335316 RMSE : 1.3183269065789935 Std : 1.3183269051307815 \t Training, \t Epoch : 54\n",
      "MSE : 1.068963938702029 RMSE : 1.342885963675863 Std : 1.3416853822044874 \t Validation, \t Epoch : 54\n",
      "MSE : 1.0502420438885138 RMSE : 1.3183176079300292 Std : 1.3183176071343525 \t Training, \t Epoch : 55\n",
      "MSE : 1.0688923816258324 RMSE : 1.3428324063998711 Std : 1.341680778062212 \t Validation, \t Epoch : 55\n",
      "MSE : 1.050262481047783 RMSE : 1.3183280602694896 Std : 1.3183280597946463 \t Training, \t Epoch : 56\n",
      "MSE : 1.0688534673173455 RMSE : 1.3428180654681428 Std : 1.341700575774103 \t Validation, \t Epoch : 56\n",
      "MSE : 1.0502541002877464 RMSE : 1.3183268945303994 Std : 1.318326894426727 \t Training, \t Epoch : 57\n",
      "MSE : 1.0688214753086434 RMSE : 1.3427836812585303 Std : 1.341685722382055 \t Validation, \t Epoch : 57\n",
      "MSE : 1.0502738547734636 RMSE : 1.3183359204090257 Std : 1.3183359204086618 \t Training, \t Epoch : 58\n",
      "MSE : 1.0688343561086542 RMSE : 1.3427953596093976 Std : 1.341703067620189 \t Validation, \t Epoch : 58\n",
      "MSE : 1.0502559285988406 RMSE : 1.3183229120731819 Std : 1.3183229118656608 \t Training, \t Epoch : 59\n",
      "MSE : 1.0688762128430298 RMSE : 1.34282647796565 Std : 1.3417247371820324 \t Validation, \t Epoch : 59\n",
      "MSE : 1.0502701048279952 RMSE : 1.318338177399983 Std : 1.318338176459999 \t Training, \t Epoch : 60\n",
      "MSE : 1.0689362098483395 RMSE : 1.3428720720297194 Std : 1.3417493330361963 \t Validation, \t Epoch : 60\n",
      "MSE : 1.0502669112335112 RMSE : 1.3183251571398118 Std : 1.3183251552700883 \t Training, \t Epoch : 61\n",
      "MSE : 1.0690284400459267 RMSE : 1.3429428228069062 Std : 1.341787658068459 \t Validation, \t Epoch : 61\n",
      "MSE : 1.0502658427220082 RMSE : 1.3183320969977594 Std : 1.318332093809897 \t Training, \t Epoch : 62\n",
      "MSE : 1.069134519967702 RMSE : 1.3430162810957103 Std : 1.3418173010506689 \t Validation, \t Epoch : 62\n",
      "MSE : 1.0502650834364886 RMSE : 1.3183251418640023 Std : 1.3183251368901028 \t Training, \t Epoch : 63\n",
      "MSE : 1.0692527440608353 RMSE : 1.3430961348561752 Std : 1.341845971009987 \t Validation, \t Epoch : 63\n",
      "MSE : 1.0502646009921983 RMSE : 1.3183257910806296 Std : 1.3183257843780913 \t Training, \t Epoch : 64\n",
      "MSE : 1.0693770019168571 RMSE : 1.3431877450471796 Std : 1.3418823515630762 \t Validation, \t Epoch : 64\n",
      "MSE : 1.0502595174134828 RMSE : 1.3183255192003762 Std : 1.3183255108198029 \t Training, \t Epoch : 65\n",
      "MSE : 1.0695127963434437 RMSE : 1.3432794712397929 Std : 1.3419140148663602 \t Validation, \t Epoch : 65\n",
      "MSE : 1.0502569733127145 RMSE : 1.318320229656082 Std : 1.3183202199145152 \t Training, \t Epoch : 66\n",
      "MSE : 1.0696378150993755 RMSE : 1.343373439344318 Std : 1.3419453616752262 \t Validation, \t Epoch : 66\n",
      "MSE : 1.0502562862814502 RMSE : 1.318325849452227 Std : 1.3183258379009137 \t Training, \t Epoch : 67\n",
      "MSE : 1.0697783696375995 RMSE : 1.343469533037351 Std : 1.341978962231667 \t Validation, \t Epoch : 67\n",
      "MSE : 1.0502450894522415 RMSE : 1.3183126538712884 Std : 1.3183126422248033 \t Training, \t Epoch : 68\n",
      "MSE : 1.0698914263808132 RMSE : 1.343551210418404 Std : 1.3420002626035674 \t Validation, \t Epoch : 68\n",
      "MSE : 1.050249775161886 RMSE : 1.3183210040111948 Std : 1.3183209915299736 \t Training, \t Epoch : 69\n",
      "MSE : 1.070017522528263 RMSE : 1.343636159145563 Std : 1.3420258203953368 \t Validation, \t Epoch : 69\n",
      "MSE : 1.0502416755183963 RMSE : 1.3183084778898964 Std : 1.3183084649908032 \t Training, \t Epoch : 70\n",
      "MSE : 1.0701104434355944 RMSE : 1.3437041249895707 Std : 1.3420377537010333 \t Validation, \t Epoch : 70\n",
      "MSE : 1.0502452113819625 RMSE : 1.318315374909185 Std : 1.3183153627725575 \t Training, \t Epoch : 71\n",
      "MSE : 1.0702108042980285 RMSE : 1.3437715760697402 Std : 1.3420551555415057 \t Validation, \t Epoch : 71\n",
      "MSE : 1.050237502001923 RMSE : 1.3183052958907902 Std : 1.3183052836932039 \t Training, \t Epoch : 72\n",
      "MSE : 1.0702901544958565 RMSE : 1.3438291289046882 Std : 1.3420658297251724 \t Validation, \t Epoch : 72\n",
      "MSE : 1.0502424236322896 RMSE : 1.318311647110811 Std : 1.3183116357366669 \t Training, \t Epoch : 73\n",
      "MSE : 1.0703670590780634 RMSE : 1.3438809246867887 Std : 1.342076425923845 \t Validation, \t Epoch : 73\n",
      "MSE : 1.050240373162835 RMSE : 1.3183072236484943 Std : 1.3183072131311042 \t Training, \t Epoch : 74\n",
      "MSE : 1.0704138128872969 RMSE : 1.3439175894583255 Std : 1.3420774398929916 \t Validation, \t Epoch : 74\n",
      "MSE : 1.050243962102138 RMSE : 1.3183120421568228 Std : 1.318312032506843 \t Training, \t Epoch : 75\n",
      "MSE : 1.0704693399642218 RMSE : 1.343954079767185 Std : 1.342083971450182 \t Validation, \t Epoch : 75\n",
      "MSE : 1.0502420494953457 RMSE : 1.3183064757477359 Std : 1.3183064668473075 \t Training, \t Epoch : 76\n",
      "MSE : 1.0705074649004085 RMSE : 1.3439828427602718 Std : 1.3420868355198672 \t Validation, \t Epoch : 76\n",
      "MSE : 1.0502450771254888 RMSE : 1.3183105205946208 Std : 1.3183105130557766 \t Training, \t Epoch : 77\n",
      "MSE : 1.070542744208981 RMSE : 1.344005729022243 Std : 1.3420897354799546 \t Validation, \t Epoch : 77\n",
      "MSE : 1.0502470185025308 RMSE : 1.3183086610988177 Std : 1.3183086542137572 \t Training, \t Epoch : 78\n",
      "MSE : 1.070560565627477 RMSE : 1.3440187855116306 Std : 1.3420861323651219 \t Validation, \t Epoch : 78\n",
      "MSE : 1.050250985834265 RMSE : 1.3183125083093532 Std : 1.3183125025676645 \t Training, \t Epoch : 79\n",
      "MSE : 1.07057795057147 RMSE : 1.3440284157497089 Std : 1.3420834186395898 \t Validation, \t Epoch : 79\n",
      "MSE : 1.0502509717421569 RMSE : 1.3183096515950607 Std : 1.3183096462709134 \t Training, \t Epoch : 80\n",
      "MSE : 1.0705879238740836 RMSE : 1.3440374504879107 Std : 1.3420817850124351 \t Validation, \t Epoch : 80\n"
     ]
    },
    {
     "name": "stdout",
     "output_type": "stream",
     "text": [
      "MSE : 1.0502531548737248 RMSE : 1.3183114272030378 Std : 1.318311422692183 \t Training, \t Epoch : 81\n",
      "MSE : 1.070592027353002 RMSE : 1.344035809357301 Std : 1.3420737311140867 \t Validation, \t Epoch : 81\n",
      "MSE : 1.0502550373529889 RMSE : 1.3183119029925185 Std : 1.3183118989488145 \t Training, \t Epoch : 82\n",
      "MSE : 1.0705976879293324 RMSE : 1.3440414278480421 Std : 1.3420736653890415 \t Validation, \t Epoch : 82\n",
      "MSE : 1.0502573728740903 RMSE : 1.3183132585381339 Std : 1.3183132550150602 \t Training, \t Epoch : 83\n",
      "MSE : 1.0706012049289106 RMSE : 1.3440425810151229 Std : 1.342071310000767 \t Validation, \t Epoch : 83\n",
      "MSE : 1.050258359420708 RMSE : 1.3183138151939953 Std : 1.3183138120252187 \t Training, \t Epoch : 84\n",
      "MSE : 1.070594779253256 RMSE : 1.344037255139512 Std : 1.3420640192509243 \t Validation, \t Epoch : 84\n",
      "MSE : 1.0502618185529504 RMSE : 1.3183143436196847 Std : 1.318314340768154 \t Training, \t Epoch : 85\n",
      "MSE : 1.0705931325879567 RMSE : 1.3440342637979374 Std : 1.342060242867654 \t Validation, \t Epoch : 85\n",
      "MSE : 1.0502611862393914 RMSE : 1.3183150203057978 Std : 1.3183150175302076 \t Training, \t Epoch : 86\n",
      "MSE : 1.0705884871152538 RMSE : 1.3440294634578263 Std : 1.3420546658079677 \t Validation, \t Epoch : 86\n",
      "MSE : 1.050263027889971 RMSE : 1.3183154039490708 Std : 1.3183154014769334 \t Training, \t Epoch : 87\n",
      "MSE : 1.0705860438813517 RMSE : 1.3440278793212477 Std : 1.3420532357337147 \t Validation, \t Epoch : 87\n",
      "MSE : 1.0502637993387967 RMSE : 1.3183151866502087 Std : 1.3183151843161574 \t Training, \t Epoch : 88\n",
      "MSE : 1.0705812503488008 RMSE : 1.3440224353295533 Std : 1.342047957066511 \t Validation, \t Epoch : 88\n",
      "MSE : 1.0502649430741056 RMSE : 1.3183154815056375 Std : 1.318315479346917 \t Training, \t Epoch : 89\n",
      "MSE : 1.0705793070530838 RMSE : 1.3440202739197855 Std : 1.3420463223113042 \t Validation, \t Epoch : 89\n",
      "MSE : 1.0502664135308355 RMSE : 1.3183166005892268 Std : 1.3183165984360796 \t Training, \t Epoch : 90\n",
      "MSE : 1.0705745591229792 RMSE : 1.3440151821905852 Std : 1.3420416484447213 \t Validation, \t Epoch : 90\n",
      "MSE : 1.0502666284187236 RMSE : 1.3183162859682518 Std : 1.3183162839476317 \t Training, \t Epoch : 91\n",
      "MSE : 1.0705712834624046 RMSE : 1.3440129646465362 Std : 1.3420403704064334 \t Validation, \t Epoch : 91\n",
      "MSE : 1.050267948346257 RMSE : 1.3183176776799286 Std : 1.3183176756831902 \t Training, \t Epoch : 92\n",
      "MSE : 1.0705653213879296 RMSE : 1.3440076816414628 Std : 1.342035481287123 \t Validation, \t Epoch : 92\n",
      "MSE : 1.0502689715971725 RMSE : 1.3183175099422113 Std : 1.3183175080102547 \t Training, \t Epoch : 93\n",
      "MSE : 1.0705628975013368 RMSE : 1.344003656354093 Std : 1.3420324449577383 \t Validation, \t Epoch : 93\n",
      "MSE : 1.0502690265022792 RMSE : 1.3183173081340058 Std : 1.3183173062166378 \t Training, \t Epoch : 94\n",
      "MSE : 1.0705582294886589 RMSE : 1.3440003229953412 Std : 1.3420299322164069 \t Validation, \t Epoch : 94\n",
      "MSE : 1.050269953216376 RMSE : 1.3183178804755846 Std : 1.3183178784973864 \t Training, \t Epoch : 95\n",
      "MSE : 1.0705563047267534 RMSE : 1.3439969435232189 Std : 1.3420267396132128 \t Validation, \t Epoch : 95\n",
      "MSE : 1.050269841110608 RMSE : 1.3183168228533277 Std : 1.3183168210100267 \t Training, \t Epoch : 96\n",
      "MSE : 1.0705509212983604 RMSE : 1.3439930474174617 Std : 1.3420238583654296 \t Validation, \t Epoch : 96\n",
      "MSE : 1.050270642665444 RMSE : 1.3183179933347056 Std : 1.3183179915439938 \t Training, \t Epoch : 97\n",
      "MSE : 1.0705491386184665 RMSE : 1.3439901998053423 Std : 1.342021467572448 \t Validation, \t Epoch : 97\n",
      "MSE : 1.050270781043802 RMSE : 1.3183174175414314 Std : 1.3183174156651087 \t Training, \t Epoch : 98\n",
      "MSE : 1.0705469696658259 RMSE : 1.3439889195052088 Std : 1.3420205486769203 \t Validation, \t Epoch : 98\n",
      "MSE : 1.0502717567050721 RMSE : 1.3183184529225 Std : 1.318318451046953 \t Training, \t Epoch : 99\n",
      "MSE : 1.0705466834492967 RMSE : 1.343987664139508 Std : 1.3420196213651021 \t Validation, \t Epoch : 99\n"
     ]
    }
   ],
   "source": [
    "for t in range(epoch_size):\n",
    "\n",
    "    pred_train = []\n",
    "    sess.run(tf.assign( lr, init_lr*( decay_rate**t ) ))\n",
    "    for i in range(batch_train):\n",
    "        X_batch = fps_train[i*batch_size:(i+1)*batch_size]\n",
    "        Y_batch = logP_train[i*batch_size:(i+1)*batch_size]\n",
    "        _opt, _Y, _loss = sess.run([opt, Y_pred, loss], feed_dict = {X : X_batch, Y : Y_batch})\n",
    "        pred_train.append(_Y.flatten())\n",
    "        #print(\"Epoch :\", t, \"\\t batch:\", i, \"Loss :\", _loss, \"\\t Training\")\n",
    "    pred_train = np.concatenate(pred_train, axis=0)\n",
    "    error = (logP_train-pred_train)\n",
    "    mae = np.mean(np.abs(error))\n",
    "    rmse = np.sqrt(np.mean(error**2))\n",
    "    stdv = np.std(error)\n",
    "\n",
    "    print (\"MSE :\", mae, \"RMSE :\", rmse, \"Std :\", stdv, \"\\t Training, \\t Epoch :\", t)\n",
    "\n",
    "    pred_validation = []\n",
    "    for i in range(batch_validation):\n",
    "        X_batch = fps_validation[i*batch_size:(i+1)*batch_size]\n",
    "        Y_batch = logP_validation[i*batch_size:(i+1)*batch_size]\n",
    "        _Y, _loss = sess.run([Y_pred, loss], feed_dict = {X : X_batch, Y : Y_batch})\n",
    "        #print(\"Epoch :\", t, \"\\t batch:\", i, \"Loss :\", _loss, \"\\t validation\")\n",
    "        pred_validation.append(_Y.flatten())\n",
    "\n",
    "    pred_validation = np.concatenate(pred_validation, axis=0)\n",
    "    error = (logP_validation-pred_validation)\n",
    "    mae = np.mean(np.abs(error))\n",
    "    rmse = np.sqrt(np.mean(error**2))\n",
    "    stdv = np.std(error)\n",
    "\n",
    "    print (\"MSE :\", mae, \"RMSE :\", rmse, \"Std :\", stdv, \"\\t Validation, \\t Epoch :\", t)"
   ]
  },
  {
   "cell_type": "markdown",
   "metadata": {},
   "source": [
    "## Test"
   ]
  },
  {
   "cell_type": "code",
   "execution_count": 15,
   "metadata": {},
   "outputs": [
    {
     "name": "stdout",
     "output_type": "stream",
     "text": [
      "MSE : 1.0752506260923393 RMSE : 1.3604792021689789 Std : 1.3585622846554917 \t Test\n"
     ]
    }
   ],
   "source": [
    "pred_test = []\n",
    "for i in range(batch_test):\n",
    "    X_batch = fps_test[i*batch_size:(i+1)*batch_size]\n",
    "    Y_batch = logP_test[i*batch_size:(i+1)*batch_size]\n",
    "    _Y, _loss = sess.run([Y_pred, loss], feed_dict = {X : X_batch, Y : Y_batch})\n",
    "    #print(\"Epoch :\", t, \"\\t batch:\", i, \"Loss :\", _loss, \"\\t validation\")\n",
    "    pred_test.append(_Y.flatten())\n",
    "\n",
    "pred_test = np.concatenate(pred_test, axis=0)\n",
    "error = (logP_test-pred_test)\n",
    "mae = np.mean(np.abs(error))\n",
    "rmse = np.sqrt(np.mean(error**2))\n",
    "stdv = np.std(error)\n",
    "\n",
    "print (\"MSE :\", mae, \"RMSE :\", rmse, \"Std :\", stdv, \"\\t Test\")"
   ]
  },
  {
   "cell_type": "code",
   "execution_count": 16,
   "metadata": {},
   "outputs": [
    {
     "data": {
      "image/png": "[encoded data removed]",
      "text/plain": [
       "<Figure size 432x288 with 1 Axes>"
      ]
     },
     "metadata": {
      "needs_background": "light"
     },
     "output_type": "display_data"
    }
   ],
   "source": [
    "plt.figure()\n",
    "plt.scatter(logP_test, pred_test, s=3)\n",
    "plt.xlabel('logP - Truth')\n",
    "plt.ylabel('logP - Prediction')\n",
    "plt.savefig('logP_mlp.png')"
   ]
  }
 ],
 "metadata": {
  "kernelspec": {
   "display_name": "Python 3",
   "language": "python",
   "name": "python3"
  },
  "language_info": {
   "codemirror_mode": {
    "name": "ipython",
    "version": 3
   },
   "file_extension": ".py",
   "mimetype": "text/x-python",
   "name": "python",
   "nbconvert_exporter": "python",
   "pygments_lexer": "ipython3",
   "version": "3.6.8"
  }
 },
 "nbformat": 4,
 "nbformat_minor": 2
}

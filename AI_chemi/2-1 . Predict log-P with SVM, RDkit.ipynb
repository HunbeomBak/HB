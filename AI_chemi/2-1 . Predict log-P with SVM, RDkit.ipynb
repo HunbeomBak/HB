{
 "cells": [
  {
   "cell_type": "markdown",
   "metadata": {},
   "source": [
    "목표 : log-P를 예측해보자\n",
    "\n",
    "log-p : 이온화 되지않은 화합물의 농도 비율\n"
   ]
  },
  {
   "cell_type": "code",
   "execution_count": 2,
   "metadata": {},
   "outputs": [],
   "source": [
    "import numpy as np\n",
    "import matplotlib.pyplot as plt\n",
    "from scipy import stats\n",
    "\n",
    "#rdkit\n",
    "from rdkit import Chem\n",
    "from rdkit.Chem.Crippen import MolLogP\n",
    "from rdkit import Chem, DataStructs\n",
    "from rdkit.Chem import AllChem\n",
    "\n",
    "#sklearn\n",
    "from sklearn.svm import SVR\n",
    "from sklearn.metrics import mean_squared_error, r2_score"
   ]
  },
  {
   "cell_type": "markdown",
   "metadata": {},
   "source": [
    "## load_data"
   ]
  },
  {
   "cell_type": "code",
   "execution_count": 4,
   "metadata": {},
   "outputs": [],
   "source": [
    "num_mols = 5000\n",
    "f = open('./data/smiles.txt', 'r')\n",
    "contents = f.readlines()\n",
    "\n",
    "fps_total = []\n",
    "logP_total = []\n",
    "\n",
    "for i in range(num_mols):\n",
    "    smi = contents[i].split()[0]\n",
    "    m = Chem.MolFromSmiles(smi)\n",
    "    fp = AllChem.GetMorganFingerprintAsBitVect(m,2)\n",
    "    arr = np.zeros((1,))\n",
    "    DataStructs.ConvertToNumpyArray(fp,arr)\n",
    "    fps_total.append(arr)\n",
    "    logP_total.append(MolLogP(m))\n",
    "    \n",
    "fps_total = np.asarray(fps_total)\n",
    "logP_total = np.asarray(logP_total)"
   ]
  },
  {
   "cell_type": "markdown",
   "metadata": {},
   "source": [
    "학습용 데이터와 테스트용 데이터를 나누자"
   ]
  },
  {
   "cell_type": "code",
   "execution_count": 5,
   "metadata": {},
   "outputs": [
    {
     "data": {
      "text/plain": [
       "(5000, 4000, 1000)"
      ]
     },
     "execution_count": 5,
     "metadata": {},
     "output_type": "execute_result"
    }
   ],
   "source": [
    "num_total = fps_total.shape[0]\n",
    "num_train = int(num_total*0.8)\n",
    "num_test = num_total-num_train\n",
    "\n",
    "num_total, num_train, num_test"
   ]
  },
  {
   "cell_type": "markdown",
   "metadata": {},
   "source": [
    "80%는 학습용, 나머지는 테스트용으로 사용하자. 그러면 각각 4000개 1000개 이다. 이제 분리하자"
   ]
  },
  {
   "cell_type": "code",
   "execution_count": 6,
   "metadata": {},
   "outputs": [],
   "source": [
    "fps_train = fps_total[0:num_train]\n",
    "logP_train = logP_total[0:num_train]\n",
    "fps_test = fps_total[num_train:]\n",
    "logP_test = logP_total[num_train:]"
   ]
  },
  {
   "cell_type": "markdown",
   "metadata": {},
   "source": [
    "## Model\n",
    "\n",
    "회귀 예측하기 위한 모델을 만들기 위해 SVR을 이용하자\n",
    "\n",
    "커널은 5.0으로 하자"
   ]
  },
  {
   "cell_type": "code",
   "execution_count": 7,
   "metadata": {},
   "outputs": [
    {
     "data": {
      "text/plain": [
       "SVR(C=1.0, cache_size=200, coef0=0.0, degree=3, epsilon=0.1, gamma=5.0,\n",
       "  kernel='poly', max_iter=-1, shrinking=True, tol=0.001, verbose=False)"
      ]
     },
     "execution_count": 7,
     "metadata": {},
     "output_type": "execute_result"
    }
   ],
   "source": [
    "_gamma = 5.0\n",
    "clf = SVR(kernel='poly', gamma=_gamma)\n",
    "clf.fit(fps_train, logP_train)"
   ]
  },
  {
   "cell_type": "markdown",
   "metadata": {},
   "source": [
    "## 평가\n",
    "\n",
    "정확도를 평가하기 위해 R2 socre와 MSE를 사용한다."
   ]
  },
  {
   "cell_type": "code",
   "execution_count": 8,
   "metadata": {},
   "outputs": [
    {
     "data": {
      "text/plain": [
       "(0.7598955374744331, 0.40089623135693314)"
      ]
     },
     "execution_count": 8,
     "metadata": {},
     "output_type": "execute_result"
    }
   ],
   "source": [
    "logP_pred = clf.predict(fps_test)\n",
    "r2 = r2_score(logP_test, logP_pred)\n",
    "mse = mean_squared_error(logP_test, logP_pred)\n",
    "r2, mse"
   ]
  },
  {
   "cell_type": "markdown",
   "metadata": {},
   "source": [
    "## 시각화"
   ]
  },
  {
   "cell_type": "code",
   "execution_count": 9,
   "metadata": {},
   "outputs": [
    {
     "data": {
      "image/png": "[encoded data removed]",
      "text/plain": [
       "<Figure size 432x288 with 1 Axes>"
      ]
     },
     "metadata": {
      "needs_background": "light"
     },
     "output_type": "display_data"
    }
   ],
   "source": [
    "slope, intercept, r_value, p_value, std_error = stats.linregress(logP_test, logP_pred)\n",
    "yy = slope*logP_test+intercept\n",
    "plt.scatter(logP_test, logP_pred, color='black', s=1)\n",
    "plt.plot(logP_test, yy, label='Predicted logP = '+str(round(slope,2))+'*True logP + '+str(round(intercept,2)))\n",
    "plt.xlabel('True logP')\n",
    "plt.ylabel('Predicted logP')\n",
    "plt.legend()\n",
    "plt.show()"
   ]
  }
 ],
 "metadata": {
  "kernelspec": {
   "display_name": "Python 3",
   "language": "python",
   "name": "python3"
  },
  "language_info": {
   "codemirror_mode": {
    "name": "ipython",
    "version": 3
   },
   "file_extension": ".py",
   "mimetype": "text/x-python",
   "name": "python",
   "nbconvert_exporter": "python",
   "pygments_lexer": "ipython3",
   "version": "3.6.8"
  }
 },
 "nbformat": 4,
 "nbformat_minor": 2
}

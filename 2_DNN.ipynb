{
  "nbformat": 4,
  "nbformat_minor": 0,
  "metadata": {
    "colab": {
      "name": "2.DNN",
      "provenance": [],
      "include_colab_link": true
    },
    "kernelspec": {
      "name": "python3",
      "display_name": "Python 3"
    },
    "accelerator": "GPU"
  },
  "cells": [
    {
      "cell_type": "markdown",
      "metadata": {
        "id": "view-in-github",
        "colab_type": "text"
      },
      "source": [
        "<a href=\"https://colab.research.google.com/github/HunbeomBak/HB/blob/master/2_DNN.ipynb\" target=\"_parent\"><img src=\"https://colab.research.google.com/assets/colab-badge.svg\" alt=\"Open In Colab\"/></a>"
      ]
    },
    {
      "cell_type": "code",
      "metadata": {
        "id": "VnwvyDw9OUJ1",
        "colab_type": "code",
        "colab": {}
      },
      "source": [
        "import torch\n",
        "import torch.nn as nn\n",
        "import torch.optim as optim\n",
        "import torch.nn.functional as F\n",
        "from torchvision import datasets, transforms, utils\n",
        "from torch.utils import data\n",
        "\n",
        "import matplotlib.pyplot as plt\n",
        "import numpy as np"
      ],
      "execution_count": 0,
      "outputs": []
    },
    {
      "cell_type": "markdown",
      "metadata": {
        "id": "s1XQJwoiOzfH",
        "colab_type": "text"
      },
      "source": [
        "# Fashion mnist"
      ]
    },
    {
      "cell_type": "markdown",
      "metadata": {
        "id": "1lvntM35Or0N",
        "colab_type": "text"
      },
      "source": [
        "### 이미지를 텐서로 바꾸는 코드"
      ]
    },
    {
      "cell_type": "code",
      "metadata": {
        "id": "RSdTETFdOl8f",
        "colab_type": "code",
        "colab": {}
      },
      "source": [
        "transform = transforms.Compose([\n",
        "    transforms.ToTensor()\n",
        "])"
      ],
      "execution_count": 0,
      "outputs": []
    },
    {
      "cell_type": "markdown",
      "metadata": {
        "id": "xiSFHxAIO69W",
        "colab_type": "text"
      },
      "source": [
        "## 데이터로드"
      ]
    },
    {
      "cell_type": "code",
      "metadata": {
        "id": "YmWIVxY1OxpN",
        "colab_type": "code",
        "colab": {
          "base_uri": "https://localhost:8080/",
          "height": 269
        },
        "outputId": "5c3a1d29-9681-420e-cef4-72429677f4c8"
      },
      "source": [
        "trainset = datasets.FashionMNIST(\n",
        "    root      = './.data/', \n",
        "    train     = True,\n",
        "    download  = True,\n",
        "    transform = transform\n",
        ")\n",
        "testset = datasets.FashionMNIST(\n",
        "    root      = './.data/', \n",
        "    train     = False,\n",
        "    download  = True,\n",
        "    transform = transform\n",
        ")"
      ],
      "execution_count": 3,
      "outputs": [
        {
          "output_type": "stream",
          "text": [
            "  0%|          | 0/26421880 [00:00<?, ?it/s]"
          ],
          "name": "stderr"
        },
        {
          "output_type": "stream",
          "text": [
            "Downloading http://fashion-mnist.s3-website.eu-central-1.amazonaws.com/train-images-idx3-ubyte.gz to ./.data/FashionMNIST/raw/train-images-idx3-ubyte.gz\n"
          ],
          "name": "stdout"
        },
        {
          "output_type": "stream",
          "text": [
            "26427392it [00:00, 57033863.88it/s]                              \n"
          ],
          "name": "stderr"
        },
        {
          "output_type": "stream",
          "text": [
            "Extracting ./.data/FashionMNIST/raw/train-images-idx3-ubyte.gz to ./.data/FashionMNIST/raw\n"
          ],
          "name": "stdout"
        },
        {
          "output_type": "stream",
          "text": [
            "32768it [00:00, 428487.11it/s]\n",
            "  2%|▏         | 98304/4422102 [00:00<00:05, 861455.79it/s]"
          ],
          "name": "stderr"
        },
        {
          "output_type": "stream",
          "text": [
            "Downloading http://fashion-mnist.s3-website.eu-central-1.amazonaws.com/train-labels-idx1-ubyte.gz to ./.data/FashionMNIST/raw/train-labels-idx1-ubyte.gz\n",
            "Extracting ./.data/FashionMNIST/raw/train-labels-idx1-ubyte.gz to ./.data/FashionMNIST/raw\n",
            "Downloading http://fashion-mnist.s3-website.eu-central-1.amazonaws.com/t10k-images-idx3-ubyte.gz to ./.data/FashionMNIST/raw/t10k-images-idx3-ubyte.gz\n"
          ],
          "name": "stdout"
        },
        {
          "output_type": "stream",
          "text": [
            "4423680it [00:00, 21002189.97it/s]                         \n",
            "8192it [00:00, 173970.72it/s]\n"
          ],
          "name": "stderr"
        },
        {
          "output_type": "stream",
          "text": [
            "Extracting ./.data/FashionMNIST/raw/t10k-images-idx3-ubyte.gz to ./.data/FashionMNIST/raw\n",
            "Downloading http://fashion-mnist.s3-website.eu-central-1.amazonaws.com/t10k-labels-idx1-ubyte.gz to ./.data/FashionMNIST/raw/t10k-labels-idx1-ubyte.gz\n",
            "Extracting ./.data/FashionMNIST/raw/t10k-labels-idx1-ubyte.gz to ./.data/FashionMNIST/raw\n",
            "Processing...\n",
            "Done!\n"
          ],
          "name": "stdout"
        }
      ]
    },
    {
      "cell_type": "code",
      "metadata": {
        "id": "Dvurmk1eO-Yh",
        "colab_type": "code",
        "colab": {}
      },
      "source": [
        "batch_size = 64\n",
        "\n",
        "train_loader = data.DataLoader(dataset=trainset, batch_size=batch_size, shuffle=True)\n",
        "test_loader = data.DataLoader(dataset= testset, batch_size=batch_size, shuffle=True)"
      ],
      "execution_count": 0,
      "outputs": []
    },
    {
      "cell_type": "code",
      "metadata": {
        "id": "Djii3IvlPNsp",
        "colab_type": "code",
        "colab": {}
      },
      "source": [
        "dataiter = iter(train_loader)\n",
        "images, labels = next(dataiter)"
      ],
      "execution_count": 0,
      "outputs": []
    },
    {
      "cell_type": "markdown",
      "metadata": {
        "id": "ktlB-UYKPRiI",
        "colab_type": "text"
      },
      "source": [
        "### 데이터 살펴보기 : 여러개"
      ]
    },
    {
      "cell_type": "code",
      "metadata": {
        "id": "sHQyWKKtPO-P",
        "colab_type": "code",
        "colab": {
          "base_uri": "https://localhost:8080/",
          "height": 0
        },
        "outputId": "180d203a-119a-4330-a901-7ff09bdd025f"
      },
      "source": [
        "img   = utils.make_grid(images, padding=0)\n",
        "npimg = img.numpy()\n",
        "plt.figure(figsize=(10, 7))\n",
        "plt.imshow(np.transpose(npimg, (1,2,0)))\n",
        "plt.show()\n",
        "print(labels)\n"
      ],
      "execution_count": 6,
      "outputs": [
        {
          "output_type": "display_data",
          "data": {
            "image/png": "[encoded data removed]",
            "text/plain": [
              "<Figure size 720x504 with 1 Axes>"
            ]
          },
          "metadata": {
            "tags": []
          }
        },
        {
          "output_type": "stream",
          "text": [
            "tensor([1, 9, 4, 4, 1, 8, 2, 2, 8, 5, 7, 7, 9, 6, 7, 2, 0, 1, 8, 3, 1, 8, 8, 4,\n",
            "        9, 0, 6, 1, 3, 3, 1, 1, 6, 7, 9, 2, 5, 3, 7, 3, 8, 8, 1, 7, 9, 9, 6, 2,\n",
            "        4, 8, 1, 3, 2, 8, 6, 4, 6, 5, 3, 6, 0, 5, 3, 5])\n"
          ],
          "name": "stdout"
        }
      ]
    },
    {
      "cell_type": "code",
      "metadata": {
        "id": "MC3NE0oSPS9e",
        "colab_type": "code",
        "colab": {}
      },
      "source": [
        "\n",
        "CLASSES = {\n",
        "    0: 'T-shirt/top',\n",
        "    1: 'Trouser',\n",
        "    2: 'Pullover',\n",
        "    3: 'Dress',\n",
        "    4: 'Coat',\n",
        "    5: 'Sandal',\n",
        "    6: 'Shirt',\n",
        "    7: 'Sneaker',\n",
        "    8: 'Bag',\n",
        "    9: 'Ankle boot'\n",
        "}\n"
      ],
      "execution_count": 0,
      "outputs": []
    },
    {
      "cell_type": "code",
      "metadata": {
        "id": "Fl5UjvPYPUaH",
        "colab_type": "code",
        "colab": {
          "base_uri": "https://localhost:8080/",
          "height": 0
        },
        "outputId": "27766a4c-159e-4bf2-cc11-e6f2716bcbb0"
      },
      "source": [
        "for label in labels:\n",
        "    index = label.item()\n",
        "    print(CLASSES[index])"
      ],
      "execution_count": 8,
      "outputs": [
        {
          "output_type": "stream",
          "text": [
            "Trouser\n",
            "Ankle boot\n",
            "Coat\n",
            "Coat\n",
            "Trouser\n",
            "Bag\n",
            "Pullover\n",
            "Pullover\n",
            "Bag\n",
            "Sandal\n",
            "Sneaker\n",
            "Sneaker\n",
            "Ankle boot\n",
            "Shirt\n",
            "Sneaker\n",
            "Pullover\n",
            "T-shirt/top\n",
            "Trouser\n",
            "Bag\n",
            "Dress\n",
            "Trouser\n",
            "Bag\n",
            "Bag\n",
            "Coat\n",
            "Ankle boot\n",
            "T-shirt/top\n",
            "Shirt\n",
            "Trouser\n",
            "Dress\n",
            "Dress\n",
            "Trouser\n",
            "Trouser\n",
            "Shirt\n",
            "Sneaker\n",
            "Ankle boot\n",
            "Pullover\n",
            "Sandal\n",
            "Dress\n",
            "Sneaker\n",
            "Dress\n",
            "Bag\n",
            "Bag\n",
            "Trouser\n",
            "Sneaker\n",
            "Ankle boot\n",
            "Ankle boot\n",
            "Shirt\n",
            "Pullover\n",
            "Coat\n",
            "Bag\n",
            "Trouser\n",
            "Dress\n",
            "Pullover\n",
            "Bag\n",
            "Shirt\n",
            "Coat\n",
            "Shirt\n",
            "Sandal\n",
            "Dress\n",
            "Shirt\n",
            "T-shirt/top\n",
            "Sandal\n",
            "Dress\n",
            "Sandal\n"
          ],
          "name": "stdout"
        }
      ]
    },
    {
      "cell_type": "markdown",
      "metadata": {
        "id": "k75nNc3RPdFw",
        "colab_type": "text"
      },
      "source": [
        "## 데이터 살펴보기 : 하나씩\n"
      ]
    },
    {
      "cell_type": "code",
      "metadata": {
        "id": "9q2VqwhPPWUc",
        "colab_type": "code",
        "colab": {
          "base_uri": "https://localhost:8080/",
          "height": 0
        },
        "outputId": "3d0c7afc-a385-41b4-8b82-c46c1e1c17d0"
      },
      "source": [
        "idx = 1\n",
        "\n",
        "item_img = images[idx]\n",
        "item_npimg = item_img.squeeze().numpy()\n",
        "plt.title(CLASSES[labels[idx].item()])\n",
        "print(item_npimg.shape)\n",
        "plt.imshow(item_npimg, cmap='gray')\n",
        "plt.show()"
      ],
      "execution_count": 9,
      "outputs": [
        {
          "output_type": "stream",
          "text": [
            "(28, 28)\n"
          ],
          "name": "stdout"
        },
        {
          "output_type": "display_data",
          "data": {
            "image/png": "[encoded data removed]",
            "text/plain": [
              "<Figure size 432x288 with 1 Axes>"
            ]
          },
          "metadata": {
            "tags": []
          }
        }
      ]
    },
    {
      "cell_type": "markdown",
      "metadata": {
        "id": "b76zLs9CPh61",
        "colab_type": "text"
      },
      "source": [
        "## 신경망"
      ]
    },
    {
      "cell_type": "markdown",
      "metadata": {
        "id": "DztARkOHPt3D",
        "colab_type": "text"
      },
      "source": [
        "### 사용장치 선택"
      ]
    },
    {
      "cell_type": "code",
      "metadata": {
        "id": "L1Qr2EN5Pf1q",
        "colab_type": "code",
        "colab": {}
      },
      "source": [
        "USE_CUDA = torch.cuda.is_available()\n",
        "DEVICE = torch.device(\"cuda\" if USE_CUDA else \"cpu\")"
      ],
      "execution_count": 0,
      "outputs": []
    },
    {
      "cell_type": "markdown",
      "metadata": {
        "id": "TiMq9xSoPuzu",
        "colab_type": "text"
      },
      "source": [
        "### 뉴럴넷 구성"
      ]
    },
    {
      "cell_type": "code",
      "metadata": {
        "id": "HnW8mFkpPqbN",
        "colab_type": "code",
        "colab": {}
      },
      "source": [
        "class Net(nn.Module):\n",
        "    def __init__(self):\n",
        "        super(Net, self).__init__()\n",
        "        self.fc1 = nn.Linear(784, 256)\n",
        "        self.fc2 = nn.Linear(256, 128)\n",
        "        self.fc3 = nn.Linear(128,10)\n",
        "        \n",
        "    def forward(self, x):\n",
        "        x = x.view(-1,784)\n",
        "        x = F.relu(self.fc1(x))\n",
        "        x = F.relu(self.fc2(x))\n",
        "        x = self.fc3(x)\n",
        "        return x"
      ],
      "execution_count": 0,
      "outputs": []
    },
    {
      "cell_type": "markdown",
      "metadata": {
        "id": "9zyUbE-fPyvJ",
        "colab_type": "text"
      },
      "source": [
        "### 모델 준비"
      ]
    },
    {
      "cell_type": "code",
      "metadata": {
        "id": "nt7dJEjtPsJE",
        "colab_type": "code",
        "colab": {}
      },
      "source": [
        "model = Net().to(DEVICE) # 모델의 파라미터를 CPU나 GPU로 보냄\n",
        "optimizer = optim.SGD(model.parameters(), lr=0.01)"
      ],
      "execution_count": 0,
      "outputs": []
    },
    {
      "cell_type": "markdown",
      "metadata": {
        "id": "gdkIgL92QUA9",
        "colab_type": "text"
      },
      "source": [
        "## 학습"
      ]
    },
    {
      "cell_type": "code",
      "metadata": {
        "id": "iJbovAKSQTm3",
        "colab_type": "code",
        "colab": {}
      },
      "source": [
        "def train(model, train_loader, optimizer):\n",
        "    model.train()\n",
        "    for batch_idx, (data, target) in enumerate(train_loader):\n",
        "        # 학습 데이터를 DEVICE의 메모리로 보냄\n",
        "        data, target = data.to(DEVICE), target.to(DEVICE)\n",
        "        optimizer.zero_grad()\n",
        "        output = model(data)\n",
        "        loss = F.cross_entropy(output, target)\n",
        "        loss.backward()\n",
        "        optimizer.step()"
      ],
      "execution_count": 0,
      "outputs": []
    },
    {
      "cell_type": "markdown",
      "metadata": {
        "id": "QeHMp331QXB5",
        "colab_type": "text"
      },
      "source": [
        "## 테스트"
      ]
    },
    {
      "cell_type": "code",
      "metadata": {
        "id": "OKu1w_W9QWb4",
        "colab_type": "code",
        "colab": {}
      },
      "source": [
        "def evaluate(model, test_loader):\n",
        "    model.eval()\n",
        "    test_loss = 0\n",
        "    correct = 0\n",
        "    with torch.no_grad():\n",
        "        for data, target in test_loader:\n",
        "            data, target = data.to(DEVICE), target.to(DEVICE)\n",
        "            output = model(data)\n",
        "\n",
        "            # 모든 오차 더하기\n",
        "            test_loss += F.cross_entropy(output, target,\n",
        "                                         reduction='sum').item()\n",
        "            \n",
        "            # 가장 큰 값을 가진 클래스가 모델의 예측입니다.\n",
        "            # 예측과 정답을 비교하여 일치할 경우 correct에 1을 더합니다.\n",
        "            pred = output.max(1, keepdim=True)[1]\n",
        "            correct += pred.eq(target.view_as(pred)).sum().item()\n",
        "            \n",
        "    test_loss /= len(test_loader.dataset)\n",
        "    test_accuracy = 100. * correct / len(test_loader.dataset)\n",
        "    return test_loss, test_accuracy"
      ],
      "execution_count": 0,
      "outputs": []
    },
    {
      "cell_type": "code",
      "metadata": {
        "id": "mDCnOlTxQVlJ",
        "colab_type": "code",
        "colab": {
          "base_uri": "https://localhost:8080/",
          "height": 557
        },
        "outputId": "a981b7b1-3d43-4bc1-8030-c199f2dc5fe4"
      },
      "source": [
        "EPOCHS = 30\n",
        "\n",
        "for epoch in range(1, EPOCHS + 1):\n",
        "    train(model, train_loader, optimizer)\n",
        "    test_loss, test_accuracy = evaluate(model, test_loader)\n",
        "    \n",
        "    print('[{}] Test Loss: {:.4f}, Accuracy: {:.2f}%'.format(\n",
        "          epoch, test_loss, test_accuracy))"
      ],
      "execution_count": 15,
      "outputs": [
        {
          "output_type": "stream",
          "text": [
            "[1] Test Loss: 0.8520, Accuracy: 65.81%\n",
            "[2] Test Loss: 0.6727, Accuracy: 74.98%\n",
            "[3] Test Loss: 0.5893, Accuracy: 79.24%\n",
            "[4] Test Loss: 0.6464, Accuracy: 75.83%\n",
            "[5] Test Loss: 0.5204, Accuracy: 81.06%\n",
            "[6] Test Loss: 0.4930, Accuracy: 82.54%\n",
            "[7] Test Loss: 0.5191, Accuracy: 80.81%\n",
            "[8] Test Loss: 0.4873, Accuracy: 82.83%\n",
            "[9] Test Loss: 0.4877, Accuracy: 82.11%\n",
            "[10] Test Loss: 0.4502, Accuracy: 84.02%\n",
            "[11] Test Loss: 0.4546, Accuracy: 83.44%\n",
            "[12] Test Loss: 0.4461, Accuracy: 83.84%\n",
            "[13] Test Loss: 0.4312, Accuracy: 84.54%\n",
            "[14] Test Loss: 0.4291, Accuracy: 84.86%\n",
            "[15] Test Loss: 0.4228, Accuracy: 84.91%\n",
            "[16] Test Loss: 0.4208, Accuracy: 84.89%\n",
            "[17] Test Loss: 0.4089, Accuracy: 85.39%\n",
            "[18] Test Loss: 0.4036, Accuracy: 85.46%\n",
            "[19] Test Loss: 0.3966, Accuracy: 85.73%\n",
            "[20] Test Loss: 0.3907, Accuracy: 86.17%\n",
            "[21] Test Loss: 0.4005, Accuracy: 85.59%\n",
            "[22] Test Loss: 0.3897, Accuracy: 86.23%\n",
            "[23] Test Loss: 0.3878, Accuracy: 86.16%\n",
            "[24] Test Loss: 0.3972, Accuracy: 85.96%\n",
            "[25] Test Loss: 0.3946, Accuracy: 85.71%\n",
            "[26] Test Loss: 0.3910, Accuracy: 86.09%\n",
            "[27] Test Loss: 0.3701, Accuracy: 86.73%\n",
            "[28] Test Loss: 0.3661, Accuracy: 86.72%\n",
            "[29] Test Loss: 0.3757, Accuracy: 86.50%\n",
            "[30] Test Loss: 0.3677, Accuracy: 86.66%\n"
          ],
          "name": "stdout"
        }
      ]
    },
    {
      "cell_type": "code",
      "metadata": {
        "id": "L17g7xfzQgAG",
        "colab_type": "code",
        "colab": {}
      },
      "source": [
        ""
      ],
      "execution_count": 0,
      "outputs": []
    }
  ]
}
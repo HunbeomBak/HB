{
 "cells": [
  {
   "cell_type": "code",
   "execution_count": 1,
   "metadata": {},
   "outputs": [],
   "source": [
    "import miepython"
   ]
  },
  {
   "cell_type": "code",
   "execution_count": 2,
   "metadata": {},
   "outputs": [
    {
     "name": "stdout",
     "output_type": "stream",
     "text": [
      "The scattering efficiency  is 0.215\n",
      "The backscatter efficiency is 0.187\n",
      "The scattering anisotropy  is 0.199\n"
     ]
    }
   ],
   "source": [
    "m = 1.5  # index of refraction of sphere\n",
    "x = 1.0  # dimensionless Mie size parameter\n",
    "\n",
    "qext, qsca, qback, g = miepython.mie(m,x)\n",
    "print(\"The scattering efficiency  is %.3f\" % qsca)\n",
    "print(\"The backscatter efficiency is %.3f\" % qback)\n",
    "print(\"The scattering anisotropy  is %.3f\" % g)"
   ]
  },
  {
   "cell_type": "code",
   "execution_count": null,
   "metadata": {},
   "outputs": [],
   "source": []
  }
 ],
 "metadata": {
  "kernelspec": {
   "display_name": "Python 3",
   "language": "python",
   "name": "python3"
  },
  "language_info": {
   "codemirror_mode": {
    "name": "ipython",
    "version": 3
   },
   "file_extension": ".py",
   "mimetype": "text/x-python",
   "name": "python",
   "nbconvert_exporter": "python",
   "pygments_lexer": "ipython3",
   "version": "3.6.8"
  }
 },
 "nbformat": 4,
 "nbformat_minor": 2
}
